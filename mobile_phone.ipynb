{
 "cells": [
  {
   "cell_type": "markdown",
   "id": "1aabe8f7-c745-41ca-bdf3-35aefb3e9aed",
   "metadata": {},
   "source": [
    " # Analyzing the price, Ratings and Reviews for Unlocked Mobile Phones on Amazon"
   ]
  },
  {
   "cell_type": "markdown",
   "id": "abea09e5-2376-4c37-8e61-a7c421118656",
   "metadata": {},
   "source": [
    "## Introduction \n",
    " * The dataset utilized in this project revolves around mobile phones sold on the popular e-commerce platform, Amazon. Specifically, the dataset focuses on unlocked mobile phones, comprising close to 4,400 listings. This dataset offers a diverse collection of products from various brands, providing valuable insights into the unlocked mobile phone market.\"Unlocked mobile phone\" refers to a mobile phone that is not tied to a specific carrier or network provider."
   ]
  },
  {
   "cell_type": "markdown",
   "id": "169d6631-0c7e-4ba8-8f30-a8c1174aa105",
   "metadata": {},
   "source": [
    "## Problem Statement\n",
    "* I have a dataset on unlocked mobile phone in amazon,Based on this given dataset, we have to analyze the marketing strategies, product development, and customer satisfaction initiatives in the competitive mobile phone market on Amazon."
   ]
  },
  {
   "cell_type": "markdown",
   "id": "533e4bcb-67bc-4982-ae3b-a463a07871e4",
   "metadata": {},
   "source": [
    "## Souce of Dataset\n",
    "* we collected the dataset from[ Kaggle.com](https://www.kaggle.com/datasets/PromptCloudHQ/amazon-reviews-unlocked-mobile-phones)"
   ]
  },
  {
   "cell_type": "markdown",
   "id": "f8cdab00-61bb-4f35-a044-a5cde0a01246",
   "metadata": {},
   "source": [
    "## Size of Dataset\n",
    "* size of this dataset is 125.8 MB"
   ]
  },
  {
   "cell_type": "markdown",
   "id": "a1c29587-244a-4c2b-b902-ee5354342a42",
   "metadata": {},
   "source": [
    "## About the Dataset"
   ]
  },
  {
   "cell_type": "markdown",
   "id": "ae58b780-33f6-41fb-a38d-69a94deddd85",
   "metadata": {},
   "source": [
    "* This dataset have more than 400,000 reviews from Amazon's unlocked mobile phone category.\n",
    "* Dataset contains 6 columns namely - 'Product Name','Brand Name','Price','Rating','Reviews' and 'Review Votes'."
   ]
  },
  {
   "cell_type": "markdown",
   "id": "aa648547-daf6-49a4-af6b-4dafebf05783",
   "metadata": {},
   "source": [
    "## Libraries Used\n",
    "* Numpy\n",
    "* Pandas\n",
    "* Matplotlib\n",
    "* Seaborn"
   ]
  },
  {
   "cell_type": "markdown",
   "id": "7239eb73-5ed7-4033-b8a5-640b4210d686",
   "metadata": {},
   "source": [
    "## Overview of the Features\n",
    "* Product Name - Name of the products.\n",
    "* Brand Name - Name of the company.\n",
    "* Price - Price of the product.\n",
    "* Rating - Rating of the product ranging between 1-5.\n",
    "* Reviews - Description of the user experience.\n",
    "* Review Votes - Number of people voted the review. "
   ]
  },
  {
   "cell_type": "markdown",
   "id": "7cd9a561-e05a-444a-b2f5-253543fcf9c4",
   "metadata": {},
   "source": [
    "### Data Preprocessing"
   ]
  },
  {
   "cell_type": "markdown",
   "id": "e86a03ac-c213-4a3a-8c99-9db380b3abea",
   "metadata": {},
   "source": [
    "## Importing  required libraries"
   ]
  },
  {
   "cell_type": "code",
   "execution_count": 1,
   "id": "11bac35c-d4cf-4cfc-af5a-8d1681c312a9",
   "metadata": {},
   "outputs": [],
   "source": [
    "import numpy as np\n",
    "import pandas as pd\n",
    "import matplotlib.pyplot as plt\n",
    "import seaborn as sns"
   ]
  },
  {
   "cell_type": "markdown",
   "id": "80154f52-a946-4064-be79-5bf732637466",
   "metadata": {},
   "source": [
    "## Loading dataset into dataframe"
   ]
  },
  {
   "cell_type": "code",
   "execution_count": 2,
   "id": "3dad0938-4714-4c33-b2c6-44dad1baa32e",
   "metadata": {},
   "outputs": [],
   "source": [
    "df=pd.read_csv('Amazon_Unlocked_Mobile.csv')"
   ]
  },
  {
   "cell_type": "code",
   "execution_count": 3,
   "id": "48db6301-1eb6-4ae5-bb04-011e88fad721",
   "metadata": {},
   "outputs": [
    {
     "data": {
      "text/html": [
       "<div>\n",
       "<style scoped>\n",
       "    .dataframe tbody tr th:only-of-type {\n",
       "        vertical-align: middle;\n",
       "    }\n",
       "\n",
       "    .dataframe tbody tr th {\n",
       "        vertical-align: top;\n",
       "    }\n",
       "\n",
       "    .dataframe thead th {\n",
       "        text-align: right;\n",
       "    }\n",
       "</style>\n",
       "<table border=\"1\" class=\"dataframe\">\n",
       "  <thead>\n",
       "    <tr style=\"text-align: right;\">\n",
       "      <th></th>\n",
       "      <th>Product Name</th>\n",
       "      <th>Brand Name</th>\n",
       "      <th>Price</th>\n",
       "      <th>Rating</th>\n",
       "      <th>Reviews</th>\n",
       "      <th>Review Votes</th>\n",
       "    </tr>\n",
       "  </thead>\n",
       "  <tbody>\n",
       "    <tr>\n",
       "      <th>0</th>\n",
       "      <td>\"CLEAR CLEAN ESN\" Sprint EPIC 4G Galaxy SPH-D7...</td>\n",
       "      <td>Samsung</td>\n",
       "      <td>199.99</td>\n",
       "      <td>5</td>\n",
       "      <td>I feel so LUCKY to have found this used (phone...</td>\n",
       "      <td>1.0</td>\n",
       "    </tr>\n",
       "    <tr>\n",
       "      <th>1</th>\n",
       "      <td>\"CLEAR CLEAN ESN\" Sprint EPIC 4G Galaxy SPH-D7...</td>\n",
       "      <td>Samsung</td>\n",
       "      <td>199.99</td>\n",
       "      <td>4</td>\n",
       "      <td>nice phone, nice up grade from my pantach revu...</td>\n",
       "      <td>0.0</td>\n",
       "    </tr>\n",
       "    <tr>\n",
       "      <th>2</th>\n",
       "      <td>\"CLEAR CLEAN ESN\" Sprint EPIC 4G Galaxy SPH-D7...</td>\n",
       "      <td>Samsung</td>\n",
       "      <td>199.99</td>\n",
       "      <td>5</td>\n",
       "      <td>Very pleased</td>\n",
       "      <td>0.0</td>\n",
       "    </tr>\n",
       "    <tr>\n",
       "      <th>3</th>\n",
       "      <td>\"CLEAR CLEAN ESN\" Sprint EPIC 4G Galaxy SPH-D7...</td>\n",
       "      <td>Samsung</td>\n",
       "      <td>199.99</td>\n",
       "      <td>4</td>\n",
       "      <td>It works good but it goes slow sometimes but i...</td>\n",
       "      <td>0.0</td>\n",
       "    </tr>\n",
       "    <tr>\n",
       "      <th>4</th>\n",
       "      <td>\"CLEAR CLEAN ESN\" Sprint EPIC 4G Galaxy SPH-D7...</td>\n",
       "      <td>Samsung</td>\n",
       "      <td>199.99</td>\n",
       "      <td>4</td>\n",
       "      <td>Great phone to replace my lost phone. The only...</td>\n",
       "      <td>0.0</td>\n",
       "    </tr>\n",
       "  </tbody>\n",
       "</table>\n",
       "</div>"
      ],
      "text/plain": [
       "                                        Product Name Brand Name   Price  \\\n",
       "0  \"CLEAR CLEAN ESN\" Sprint EPIC 4G Galaxy SPH-D7...    Samsung  199.99   \n",
       "1  \"CLEAR CLEAN ESN\" Sprint EPIC 4G Galaxy SPH-D7...    Samsung  199.99   \n",
       "2  \"CLEAR CLEAN ESN\" Sprint EPIC 4G Galaxy SPH-D7...    Samsung  199.99   \n",
       "3  \"CLEAR CLEAN ESN\" Sprint EPIC 4G Galaxy SPH-D7...    Samsung  199.99   \n",
       "4  \"CLEAR CLEAN ESN\" Sprint EPIC 4G Galaxy SPH-D7...    Samsung  199.99   \n",
       "\n",
       "   Rating                                            Reviews  Review Votes  \n",
       "0       5  I feel so LUCKY to have found this used (phone...           1.0  \n",
       "1       4  nice phone, nice up grade from my pantach revu...           0.0  \n",
       "2       5                                       Very pleased           0.0  \n",
       "3       4  It works good but it goes slow sometimes but i...           0.0  \n",
       "4       4  Great phone to replace my lost phone. The only...           0.0  "
      ]
     },
     "execution_count": 3,
     "metadata": {},
     "output_type": "execute_result"
    }
   ],
   "source": [
    "df.head(5)"
   ]
  },
  {
   "cell_type": "code",
   "execution_count": 4,
   "id": "0941c4f4-c6b0-4191-8fd0-175e396feca7",
   "metadata": {},
   "outputs": [
    {
     "data": {
      "text/html": [
       "<div>\n",
       "<style scoped>\n",
       "    .dataframe tbody tr th:only-of-type {\n",
       "        vertical-align: middle;\n",
       "    }\n",
       "\n",
       "    .dataframe tbody tr th {\n",
       "        vertical-align: top;\n",
       "    }\n",
       "\n",
       "    .dataframe thead th {\n",
       "        text-align: right;\n",
       "    }\n",
       "</style>\n",
       "<table border=\"1\" class=\"dataframe\">\n",
       "  <thead>\n",
       "    <tr style=\"text-align: right;\">\n",
       "      <th></th>\n",
       "      <th>Product Name</th>\n",
       "      <th>Brand Name</th>\n",
       "      <th>Price</th>\n",
       "      <th>Rating</th>\n",
       "      <th>Reviews</th>\n",
       "      <th>Review Votes</th>\n",
       "    </tr>\n",
       "  </thead>\n",
       "  <tbody>\n",
       "    <tr>\n",
       "      <th>413835</th>\n",
       "      <td>Samsung Convoy U640 Phone for Verizon Wireless...</td>\n",
       "      <td>Samsung</td>\n",
       "      <td>79.95</td>\n",
       "      <td>5</td>\n",
       "      <td>another great deal great price</td>\n",
       "      <td>0.0</td>\n",
       "    </tr>\n",
       "    <tr>\n",
       "      <th>413836</th>\n",
       "      <td>Samsung Convoy U640 Phone for Verizon Wireless...</td>\n",
       "      <td>Samsung</td>\n",
       "      <td>79.95</td>\n",
       "      <td>3</td>\n",
       "      <td>Ok</td>\n",
       "      <td>0.0</td>\n",
       "    </tr>\n",
       "    <tr>\n",
       "      <th>413837</th>\n",
       "      <td>Samsung Convoy U640 Phone for Verizon Wireless...</td>\n",
       "      <td>Samsung</td>\n",
       "      <td>79.95</td>\n",
       "      <td>5</td>\n",
       "      <td>Passes every drop test onto porcelain tile!</td>\n",
       "      <td>0.0</td>\n",
       "    </tr>\n",
       "    <tr>\n",
       "      <th>413838</th>\n",
       "      <td>Samsung Convoy U640 Phone for Verizon Wireless...</td>\n",
       "      <td>Samsung</td>\n",
       "      <td>79.95</td>\n",
       "      <td>3</td>\n",
       "      <td>I returned it because it did not meet my needs...</td>\n",
       "      <td>0.0</td>\n",
       "    </tr>\n",
       "    <tr>\n",
       "      <th>413839</th>\n",
       "      <td>Samsung Convoy U640 Phone for Verizon Wireless...</td>\n",
       "      <td>Samsung</td>\n",
       "      <td>79.95</td>\n",
       "      <td>4</td>\n",
       "      <td>Only downside is that apparently Verizon no lo...</td>\n",
       "      <td>0.0</td>\n",
       "    </tr>\n",
       "  </tbody>\n",
       "</table>\n",
       "</div>"
      ],
      "text/plain": [
       "                                             Product Name Brand Name  Price  \\\n",
       "413835  Samsung Convoy U640 Phone for Verizon Wireless...    Samsung  79.95   \n",
       "413836  Samsung Convoy U640 Phone for Verizon Wireless...    Samsung  79.95   \n",
       "413837  Samsung Convoy U640 Phone for Verizon Wireless...    Samsung  79.95   \n",
       "413838  Samsung Convoy U640 Phone for Verizon Wireless...    Samsung  79.95   \n",
       "413839  Samsung Convoy U640 Phone for Verizon Wireless...    Samsung  79.95   \n",
       "\n",
       "        Rating                                            Reviews  \\\n",
       "413835       5                     another great deal great price   \n",
       "413836       3                                                 Ok   \n",
       "413837       5        Passes every drop test onto porcelain tile!   \n",
       "413838       3  I returned it because it did not meet my needs...   \n",
       "413839       4  Only downside is that apparently Verizon no lo...   \n",
       "\n",
       "        Review Votes  \n",
       "413835           0.0  \n",
       "413836           0.0  \n",
       "413837           0.0  \n",
       "413838           0.0  \n",
       "413839           0.0  "
      ]
     },
     "execution_count": 4,
     "metadata": {},
     "output_type": "execute_result"
    }
   ],
   "source": [
    "df.tail(5)"
   ]
  },
  {
   "cell_type": "code",
   "execution_count": 5,
   "id": "e0a81da9-f32e-49c5-8d64-108af60c7f1b",
   "metadata": {},
   "outputs": [
    {
     "data": {
      "text/plain": [
       "2483040"
      ]
     },
     "execution_count": 5,
     "metadata": {},
     "output_type": "execute_result"
    }
   ],
   "source": [
    "df.size"
   ]
  },
  {
   "cell_type": "code",
   "execution_count": 6,
   "id": "5414a783-fb9f-4e7d-b21f-8f9023aca55b",
   "metadata": {},
   "outputs": [
    {
     "data": {
      "text/plain": [
       "(413840, 6)"
      ]
     },
     "execution_count": 6,
     "metadata": {},
     "output_type": "execute_result"
    }
   ],
   "source": [
    "df.shape"
   ]
  },
  {
   "cell_type": "markdown",
   "id": "005b5c2d-eab2-4b12-bcd7-9ea46360122c",
   "metadata": {},
   "source": [
    "### Get basic information about the data"
   ]
  },
  {
   "cell_type": "code",
   "execution_count": 7,
   "id": "34f2b002-b7fb-4953-bd52-a6a7ef08514b",
   "metadata": {},
   "outputs": [
    {
     "name": "stdout",
     "output_type": "stream",
     "text": [
      "<class 'pandas.core.frame.DataFrame'>\n",
      "RangeIndex: 413840 entries, 0 to 413839\n",
      "Data columns (total 6 columns):\n",
      " #   Column        Non-Null Count   Dtype  \n",
      "---  ------        --------------   -----  \n",
      " 0   Product Name  413840 non-null  object \n",
      " 1   Brand Name    348669 non-null  object \n",
      " 2   Price         407907 non-null  float64\n",
      " 3   Rating        413840 non-null  int64  \n",
      " 4   Reviews       413778 non-null  object \n",
      " 5   Review Votes  401544 non-null  float64\n",
      "dtypes: float64(2), int64(1), object(3)\n",
      "memory usage: 18.9+ MB\n"
     ]
    }
   ],
   "source": [
    "df.info()"
   ]
  },
  {
   "cell_type": "code",
   "execution_count": 8,
   "id": "8fbc275e-18be-4f11-a33d-c8982d19d323",
   "metadata": {},
   "outputs": [
    {
     "data": {
      "text/html": [
       "<div>\n",
       "<style scoped>\n",
       "    .dataframe tbody tr th:only-of-type {\n",
       "        vertical-align: middle;\n",
       "    }\n",
       "\n",
       "    .dataframe tbody tr th {\n",
       "        vertical-align: top;\n",
       "    }\n",
       "\n",
       "    .dataframe thead th {\n",
       "        text-align: right;\n",
       "    }\n",
       "</style>\n",
       "<table border=\"1\" class=\"dataframe\">\n",
       "  <thead>\n",
       "    <tr style=\"text-align: right;\">\n",
       "      <th></th>\n",
       "      <th>Price</th>\n",
       "      <th>Rating</th>\n",
       "      <th>Review Votes</th>\n",
       "    </tr>\n",
       "  </thead>\n",
       "  <tbody>\n",
       "    <tr>\n",
       "      <th>count</th>\n",
       "      <td>407907.000000</td>\n",
       "      <td>413840.000000</td>\n",
       "      <td>401544.000000</td>\n",
       "    </tr>\n",
       "    <tr>\n",
       "      <th>mean</th>\n",
       "      <td>226.867155</td>\n",
       "      <td>3.819578</td>\n",
       "      <td>1.507237</td>\n",
       "    </tr>\n",
       "    <tr>\n",
       "      <th>std</th>\n",
       "      <td>273.006259</td>\n",
       "      <td>1.548216</td>\n",
       "      <td>9.163853</td>\n",
       "    </tr>\n",
       "    <tr>\n",
       "      <th>min</th>\n",
       "      <td>1.730000</td>\n",
       "      <td>1.000000</td>\n",
       "      <td>0.000000</td>\n",
       "    </tr>\n",
       "    <tr>\n",
       "      <th>25%</th>\n",
       "      <td>79.990000</td>\n",
       "      <td>3.000000</td>\n",
       "      <td>0.000000</td>\n",
       "    </tr>\n",
       "    <tr>\n",
       "      <th>50%</th>\n",
       "      <td>144.710000</td>\n",
       "      <td>5.000000</td>\n",
       "      <td>0.000000</td>\n",
       "    </tr>\n",
       "    <tr>\n",
       "      <th>75%</th>\n",
       "      <td>269.990000</td>\n",
       "      <td>5.000000</td>\n",
       "      <td>1.000000</td>\n",
       "    </tr>\n",
       "    <tr>\n",
       "      <th>max</th>\n",
       "      <td>2598.000000</td>\n",
       "      <td>5.000000</td>\n",
       "      <td>645.000000</td>\n",
       "    </tr>\n",
       "  </tbody>\n",
       "</table>\n",
       "</div>"
      ],
      "text/plain": [
       "               Price         Rating   Review Votes\n",
       "count  407907.000000  413840.000000  401544.000000\n",
       "mean      226.867155       3.819578       1.507237\n",
       "std       273.006259       1.548216       9.163853\n",
       "min         1.730000       1.000000       0.000000\n",
       "25%        79.990000       3.000000       0.000000\n",
       "50%       144.710000       5.000000       0.000000\n",
       "75%       269.990000       5.000000       1.000000\n",
       "max      2598.000000       5.000000     645.000000"
      ]
     },
     "execution_count": 8,
     "metadata": {},
     "output_type": "execute_result"
    }
   ],
   "source": [
    "df.describe()"
   ]
  },
  {
   "cell_type": "markdown",
   "id": "7c9d85a0-2eaf-4d20-b0d1-36e64b1e43b4",
   "metadata": {},
   "source": [
    "### Checking values of each column"
   ]
  },
  {
   "cell_type": "code",
   "execution_count": 9,
   "id": "5477c6b1-a955-407d-8786-fe33f1f45234",
   "metadata": {},
   "outputs": [
    {
     "data": {
      "text/plain": [
       "Product Name      4410\n",
       "Brand Name         384\n",
       "Price             1754\n",
       "Rating               5\n",
       "Reviews         162491\n",
       "Review Votes       241\n",
       "dtype: int64"
      ]
     },
     "execution_count": 9,
     "metadata": {},
     "output_type": "execute_result"
    }
   ],
   "source": [
    "df.nunique()"
   ]
  },
  {
   "cell_type": "code",
   "execution_count": 10,
   "id": "c0c9ed83-707b-428b-a6fe-3d0407bf0038",
   "metadata": {
    "tags": []
   },
   "outputs": [
    {
     "data": {
      "text/plain": [
       "array(['Samsung', 'Nokia', nan, 'HTM', 'Jethro', 'e passion',\n",
       "       'Cedar Tree Technologies', 'Indigi', 'Phone Baby', 'OtterBox',\n",
       "       'Lenovo', 'Huawei', 'JUNING', 'Elephone', 'Plum', 'VKworld',\n",
       "       'NOKIA', 'Ulefone', 'Jiuhe', 'inDigi', 'Acer', 'Aeku', 'AKUA',\n",
       "       'Alcatel', 'TCL Mobile', 'LG', 'amar', 'Amazon', 'Odysseus',\n",
       "       'Digital SNITCH', 'star', 'Android', 'Yezz', 'Yezz Wireless Ltd.',\n",
       "       'Apple', 'Apple Computer', 'Certified Refurbished',\n",
       "       'Amazon.com, LLC *** KEEP PORules ACTIVE ***', 'apple',\n",
       "       'ARGOM TECH', 'Asus', 'ASUS', 'ASUS Computers', 'asus',\n",
       "       'BlackBerry', 'Motorola', 'Palm', 'Pantech', 'ZTE', 'ATT',\n",
       "       'UnAssigned', 'Atoah',\n",
       "       'BlackBerry Storm 9530 Smartphone Unlocked GSM Wireless Handheld Device w/Camera Bluetooth 3.25\" Touchscreen LCD',\n",
       "       'WorryFree Gadgets', 'worryfree', 'iDROID USA', 'Blackberry (Rim)',\n",
       "       'Research In Motion', 'BLACKBERRY', 'Black Berry', 'Blackberry',\n",
       "       'blackberry', 'RIM', 'Research in Motion', 'Blackberrry', 'Storm',\n",
       "       'Blackview', 'BLU', 'Various', 'CT-Miami LLC', 'blu', 'BLUBOO',\n",
       "       'Bluboo', 'Iridium', 'AeroAntenna', 'BlueCosmo', 'GT Star',\n",
       "       'Boost Mobile', 'SANYO', 'sony', 'CablesOnline', 'Casio',\n",
       "       'CAT PHONES', 'CAT', 'Caterpillar', 'CATERPILLAR', 'CBSKY',\n",
       "       'CECTDIGI', 'CELLALLURE', 'Unnecto', 'CHSLING', 'CNPGD',\n",
       "       'Conquest S8 Pro 3GB Smartphone (Black)', 'Consumer Cellular',\n",
       "       'Junlan', 'Quality Technology Industrial Co., ltd.', 'Crony',\n",
       "       'Crown', 'China', 'HTC', 'Dell Computers', 'Docooler', 'DIKOO',\n",
       "       'DOOGEE', 'Doogee', 'KVD', 'Doro', 'DTECH', 'Dupad Story', 'EasyN',\n",
       "       'ECOO', 'Emporia', 'FIGO', 'FiGo', 'Maxwest', 'Futuretech', 'Wool',\n",
       "       'S7 active', 'Evergreen Flag & Garden', 'Generic', 'Getnord',\n",
       "       'Glocalme®', 'IPRO Group', 'Goldengulf', 'goldengulf', 'GOOGLE',\n",
       "       'Google Pixel', 'Google', 'GOSO', 'Inmarsat', 'GreatCall',\n",
       "       'Jitterbug', 'GT STAR', 'GX', 'H2O', 'china', 'Victor',\n",
       "       'shenzhen jinwanyi company', 'HOMTOM', 'JHM', 'HOMTOM HT7',\n",
       "       'HP Handheld', 'VoiceStream', 'HP', 'HTC America', 'htc', 'Huadoo',\n",
       "       'HUAWEI', 'XJKJ', 'LightInTheBox', 'winwinzonece', 'HyRich',\n",
       "       'Star', 'px phone', 'indigi', 'Indigi®', 'iNew', 'Spicy World',\n",
       "       'iVAPO', 'IPRO GROUP', 'Ipro', 'iRULU', 'JANIZZ', 'Jersa',\n",
       "       'Trait-Tech', 'JIAKE', 'GrandElectronics', 'Jiayu', \"John's\",\n",
       "       \"John's Phone\", 'Eachbid', 'Kata', 'katito', 'KINGZONE', 'Kivors',\n",
       "       'Kocaso', 'KOCASO', 'KOOTION', 'Kovee Tech', 'Kyocera', 'LandRum',\n",
       "       'LBER', 'Leagoo', 'OTEDA Industrial Co., Limited', 'JINHAIHUAHUI',\n",
       "       'WEIL TECHNOLOGY (HK) Limited', 'iPartsBuy', 'Lenovo Manufacturer',\n",
       "       'DK', 'LeEco', 'Letv', 'lg', 'LG Electronic', 'LG Electronics',\n",
       "       'Wireless One', 'LG Electronics MobileComm USA', 'LGIC', 'P710',\n",
       "       'Risio', 'GL', 'LGG', 'LifeProof', 'Sudroid', 'Lumen',\n",
       "       'Mango Natural', 'MANN ZUG S Rugged Phone',\n",
       "       'Marozi International Ltd', 'MEIZU', 'Meizu', 'M-HORSE',\n",
       "       'Microsoft', 'microsoft', 'Fosler Corporation', 'FOSLER COMPANY',\n",
       "       'Eson', 'Selected-Gadgets', 'Sony Ericsson', 'Mophie', 'mophie',\n",
       "       'ShopTech4Less', 'Motorola X 2nd gen XT1093', 'motorola', 'Moto X',\n",
       "       'MOTOROLA', 'Moxee Technologies', 'MOCREO', 'KINGWELL', 'Neoix',\n",
       "       'Sony', 'New Nextel Rugged Motorola I680 Cell Phone', 'Higoo',\n",
       "       'Sdeals', 'Sidekick', 'bbfone', 'Newsunshine', 'MICROSOFT',\n",
       "       'Grade - A', 'nokia', 'AT&T', 'Nuu Mobile', 'Ofeely',\n",
       "       'Ofeely company', 'OLA Products', 'OnePlus', 'Orbic', 'Oukitel',\n",
       "       'UMI', 'Otium', 'Defender', 'Ultrabox', 'OUKITEL', 'Padgene',\n",
       "       'Sprint', 'PALM', 'Pandaoo', 'pantech', 'PCD',\n",
       "       'Tuscan Leveling System', 'Pharos', 'PHAROS', 'Plum Mobile',\n",
       "       'Polaroid', 'Posh Mobile', 'AMM Global Enterprises', 'QJO',\n",
       "       'Que Products', 'Quick-get', 'RCA', 'Rim', 'REACH', 'RomaCostume',\n",
       "       'SENTEL', 'RugGear', 'Saliency', 'SAMSUNG', 'Samssung',\n",
       "       'Luxury Phone', 'Galaxy', 'Samsung Korea LTD', 'BlueSolar',\n",
       "       'samsung galaxy international inc', 'Global Services', 'samsung',\n",
       "       'PowerMoxie', 'Unknown', 'Samsung Galaxy', 'Samsybg Galaxy',\n",
       "       'Samsung international', 'Samsung International', 'TOP',\n",
       "       'Vostrostone', 'Samsung Korea', 'samsung galaxy', 'red', 'Sanyo',\n",
       "       'Sanyo, Katana', 'Seawolf Technologies', 'SGH-T199', 'Sharp',\n",
       "       'SIAM', 'Blackphone', 'Silent Circle', 'SKY Devices',\n",
       "       'Sky Devices', 'VEGA', 'GEEKERA', 'JoyGeek', 'Smart&Cool', 'KROO',\n",
       "       'IPRO', 'Yota', 'SHENZHEN SNOPOW OUTDOOR TECHNOLOGY CO.,LTD',\n",
       "       'SHENZHEN SNOPOW OUTDOOR TECHNOLOGY CO.LTD', 'Social',\n",
       "       'Unlocked Cell Phone', 'SOLE Mobile', 'Sonim Technologies',\n",
       "       'SonyEricsson', 'SONY ERICSSON', 'sony ericsson',\n",
       "       'Sony Ericsson Mobile', 'Sony/Ericsson', 'SONY', 'EL GUAPO',\n",
       "       'Sonim', 'ssiony', 'Stoga', 'TracFone', 'HJ Wireless', 'Blue',\n",
       "       'Samsung/Straight Talk', 'PAE', 'ling', 'LuMen', 'Supersonic',\n",
       "       'SVP', 'MTM Trading LLC', 'Turbosight LLD', 'Tell', 'The NoPhone',\n",
       "       'Thetford Marine', 'SyuanTech Co., Ltd', 'THL', 'ThL', 'Tivax',\n",
       "       'T-Mobile', 'Danger Inc.', 'LiteFuze', 'DreamsEden',\n",
       "       'ToShare Tech', 'TOTO', 'TSJYING', 'TUMI', 'iFcane', 'ifcane',\n",
       "       'Peek', 'Wmicro', 'UHAPPY', 'Purplelan', 'Tsing', 'WRTeam',\n",
       "       'Coolpad', 'Cubot', 'CUBOT', 'Concox', 'KIKAR', 'the Nokia',\n",
       "       'NUU Mobile', 'OceanCross', 'UTStarcom', 'Verizon', 'Vernee',\n",
       "       'verykool', 'VIP', 'Ut Starcom', 'Visual Land', 'Wogiz', 'q',\n",
       "       'Shenzhen Xin Sheng Shang Technology Co.,Ltd', 'Xiaomi', 'SZ Wave',\n",
       "       'ZTE(USA) Wireless', 'Dead Sea Secrets', 'ZTE Corporation', 'Zte'],\n",
       "      dtype=object)"
      ]
     },
     "execution_count": 10,
     "metadata": {},
     "output_type": "execute_result"
    }
   ],
   "source": [
    "df['Brand Name'].unique()"
   ]
  },
  {
   "cell_type": "code",
   "execution_count": 11,
   "id": "61cf5438-8385-4bde-ae95-fbc8e05c248b",
   "metadata": {
    "tags": []
   },
   "outputs": [
    {
     "data": {
      "text/plain": [
       "array(['\"CLEAR CLEAN ESN\" Sprint EPIC 4G Galaxy SPH-D700*FRONT CAMERA*ANDROID*SLIDER*QWERTY KEYBOARD*TOUCH SCREEN',\n",
       "       '\"Nokia Asha 302 Unlocked GSM Phone with 3.2MP Camera, Video, QWERTY Keyboard, Wi-Fi, Bluetooth, FM Radio, SNS Integration, MP3/MP4 Player and microSD Slot - White International Version/Warranty',\n",
       "       '((Unlocked))BlackBerry Bold 9650 Unlocked Clean ESN Smartphone non camera',\n",
       "       ..., 'Zte Zinger Z667t Unlocked',\n",
       "       'ZTE ZMAX PRO Z981 Unlimited 4G LTE 13MP Smartphone (Metro PCS)',\n",
       "       'Samsung Convoy U640 Phone for Verizon Wireless Network with No Contract (Gray) Rugged'],\n",
       "      dtype=object)"
      ]
     },
     "execution_count": 11,
     "metadata": {},
     "output_type": "execute_result"
    }
   ],
   "source": [
    "df['Product Name'].unique()"
   ]
  },
  {
   "cell_type": "code",
   "execution_count": 12,
   "id": "94c1d2ef-e58e-4d39-b91b-b335d84b5b83",
   "metadata": {},
   "outputs": [
    {
     "data": {
      "text/plain": [
       "array([5, 4, 1, 2, 3], dtype=int64)"
      ]
     },
     "execution_count": 12,
     "metadata": {},
     "output_type": "execute_result"
    }
   ],
   "source": [
    "df['Rating'].unique()"
   ]
  },
  {
   "cell_type": "markdown",
   "id": "b0e7f651-cc12-4528-85b6-0b9f0c4ddc41",
   "metadata": {},
   "source": [
    "### Checking Missing and duplicate values"
   ]
  },
  {
   "cell_type": "code",
   "execution_count": 13,
   "id": "7922ceda-94af-45fd-9844-0df4a3f6b303",
   "metadata": {},
   "outputs": [
    {
     "data": {
      "text/plain": [
       "Product Name     0.000000\n",
       "Brand Name      15.747874\n",
       "Price            1.433646\n",
       "Rating           0.000000\n",
       "Reviews          0.014982\n",
       "Review Votes     2.971197\n",
       "dtype: float64"
      ]
     },
     "execution_count": 13,
     "metadata": {},
     "output_type": "execute_result"
    }
   ],
   "source": [
    "df.isna().sum()/len(df)*100"
   ]
  },
  {
   "cell_type": "code",
   "execution_count": 14,
   "id": "f7893c71-fb76-40f3-9ec6-13b81efce9ea",
   "metadata": {},
   "outputs": [
    {
     "data": {
      "text/plain": [
       "64079"
      ]
     },
     "execution_count": 14,
     "metadata": {},
     "output_type": "execute_result"
    }
   ],
   "source": [
    "df.duplicated().sum()"
   ]
  },
  {
   "cell_type": "markdown",
   "id": "ac725259-ba89-4caa-954d-93984392460d",
   "metadata": {},
   "source": [
    "## Handling missing values and duplicates"
   ]
  },
  {
   "cell_type": "markdown",
   "id": "74e6d118-edc9-49d0-87fd-21637aaf3bb2",
   "metadata": {},
   "source": [
    "### Replacing missing values of Brand name column with mode"
   ]
  },
  {
   "cell_type": "code",
   "execution_count": 15,
   "id": "188549f8-2970-4654-b429-aba095b2946e",
   "metadata": {},
   "outputs": [],
   "source": [
    "df['Brand Name'].fillna(df['Brand Name'].mode(),inplace=True)"
   ]
  },
  {
   "cell_type": "markdown",
   "id": "57c271a3-2312-4ce1-8b5e-dec6a05da99d",
   "metadata": {},
   "source": [
    "### Dropping missing values row wise"
   ]
  },
  {
   "cell_type": "code",
   "execution_count": 16,
   "id": "0e4decc9-6657-4474-addf-1650dfa00d6d",
   "metadata": {},
   "outputs": [],
   "source": [
    "df.dropna(axis=0,inplace=True)"
   ]
  },
  {
   "cell_type": "markdown",
   "id": "99434e00-e16f-4094-9ac0-88ce5b3e176e",
   "metadata": {},
   "source": [
    "### Dropping duplicate values"
   ]
  },
  {
   "cell_type": "code",
   "execution_count": 17,
   "id": "e8dd0e14-bca7-4568-ab0f-5c58e030115e",
   "metadata": {},
   "outputs": [],
   "source": [
    "df.drop_duplicates(inplace=True)"
   ]
  },
  {
   "cell_type": "markdown",
   "id": "59ffdae6-4d8c-4c57-8ecc-fae204c50c89",
   "metadata": {},
   "source": [
    "### Checking missing values"
   ]
  },
  {
   "cell_type": "code",
   "execution_count": 18,
   "id": "f5104620-a95f-4c9d-8e77-232efa666a84",
   "metadata": {},
   "outputs": [
    {
     "data": {
      "text/plain": [
       "Product Name    0.0\n",
       "Brand Name      0.0\n",
       "Price           0.0\n",
       "Rating          0.0\n",
       "Reviews         0.0\n",
       "Review Votes    0.0\n",
       "dtype: float64"
      ]
     },
     "execution_count": 18,
     "metadata": {},
     "output_type": "execute_result"
    }
   ],
   "source": [
    "df.isna().sum()/len(df)*100"
   ]
  },
  {
   "cell_type": "markdown",
   "id": "3857a3f6-846d-4a90-8a67-24d0f9752765",
   "metadata": {},
   "source": [
    "# Exploratory Data Analysis"
   ]
  },
  {
   "cell_type": "markdown",
   "id": "3efa6f39-e8e3-4f60-8f30-34f0fd309b71",
   "metadata": {},
   "source": [
    "### 1)  What are the top 10 best-selling mobile phone brands in Amazon based on the number of reviews?"
   ]
  },
  {
   "cell_type": "code",
   "execution_count": 19,
   "id": "b000daae-7129-488c-b53a-0230a2736b1f",
   "metadata": {},
   "outputs": [
    {
     "data": {
      "text/html": [
       "<div>\n",
       "<style scoped>\n",
       "    .dataframe tbody tr th:only-of-type {\n",
       "        vertical-align: middle;\n",
       "    }\n",
       "\n",
       "    .dataframe tbody tr th {\n",
       "        vertical-align: top;\n",
       "    }\n",
       "\n",
       "    .dataframe thead th {\n",
       "        text-align: right;\n",
       "    }\n",
       "</style>\n",
       "<table border=\"1\" class=\"dataframe\">\n",
       "  <thead>\n",
       "    <tr style=\"text-align: right;\">\n",
       "      <th></th>\n",
       "      <th>Product Name</th>\n",
       "      <th>Brand Name</th>\n",
       "      <th>Price</th>\n",
       "      <th>Rating</th>\n",
       "      <th>Reviews</th>\n",
       "      <th>Review Votes</th>\n",
       "    </tr>\n",
       "  </thead>\n",
       "  <tbody>\n",
       "    <tr>\n",
       "      <th>0</th>\n",
       "      <td>\"CLEAR CLEAN ESN\" Sprint EPIC 4G Galaxy SPH-D7...</td>\n",
       "      <td>Samsung</td>\n",
       "      <td>199.99</td>\n",
       "      <td>5</td>\n",
       "      <td>I feel so LUCKY to have found this used (phone...</td>\n",
       "      <td>1.0</td>\n",
       "    </tr>\n",
       "    <tr>\n",
       "      <th>1</th>\n",
       "      <td>\"CLEAR CLEAN ESN\" Sprint EPIC 4G Galaxy SPH-D7...</td>\n",
       "      <td>Samsung</td>\n",
       "      <td>199.99</td>\n",
       "      <td>4</td>\n",
       "      <td>nice phone, nice up grade from my pantach revu...</td>\n",
       "      <td>0.0</td>\n",
       "    </tr>\n",
       "  </tbody>\n",
       "</table>\n",
       "</div>"
      ],
      "text/plain": [
       "                                        Product Name Brand Name   Price  \\\n",
       "0  \"CLEAR CLEAN ESN\" Sprint EPIC 4G Galaxy SPH-D7...    Samsung  199.99   \n",
       "1  \"CLEAR CLEAN ESN\" Sprint EPIC 4G Galaxy SPH-D7...    Samsung  199.99   \n",
       "\n",
       "   Rating                                            Reviews  Review Votes  \n",
       "0       5  I feel so LUCKY to have found this used (phone...           1.0  \n",
       "1       4  nice phone, nice up grade from my pantach revu...           0.0  "
      ]
     },
     "execution_count": 19,
     "metadata": {},
     "output_type": "execute_result"
    }
   ],
   "source": [
    "df.head(2)"
   ]
  },
  {
   "cell_type": "code",
   "execution_count": 20,
   "id": "5ef8b3a7-ac45-4142-9b04-090f00619ee9",
   "metadata": {},
   "outputs": [
    {
     "data": {
      "text/plain": [
       "Brand Name\n",
       "AMM Global Enterprises       9\n",
       "ARGOM TECH                   2\n",
       "ASUS                       401\n",
       "ASUS Computers             582\n",
       "AT&T                         1\n",
       "                          ... \n",
       "star                        29\n",
       "the Nokia                    8\n",
       "verykool                  1005\n",
       "winwinzonece                 2\n",
       "worryfree                    3\n",
       "Name: Reviews, Length: 378, dtype: int64"
      ]
     },
     "execution_count": 20,
     "metadata": {},
     "output_type": "execute_result"
    }
   ],
   "source": [
    "review= df.groupby('Brand Name')['Reviews'].count()\n",
    "review"
   ]
  },
  {
   "cell_type": "code",
   "execution_count": 21,
   "id": "b57bd879-9f99-40a1-8491-634c7c0c70b8",
   "metadata": {},
   "outputs": [
    {
     "data": {
      "text/html": [
       "<div>\n",
       "<style scoped>\n",
       "    .dataframe tbody tr th:only-of-type {\n",
       "        vertical-align: middle;\n",
       "    }\n",
       "\n",
       "    .dataframe tbody tr th {\n",
       "        vertical-align: top;\n",
       "    }\n",
       "\n",
       "    .dataframe thead th {\n",
       "        text-align: right;\n",
       "    }\n",
       "</style>\n",
       "<table border=\"1\" class=\"dataframe\">\n",
       "  <thead>\n",
       "    <tr style=\"text-align: right;\">\n",
       "      <th></th>\n",
       "      <th>Brand Name</th>\n",
       "      <th>Reviews</th>\n",
       "    </tr>\n",
       "  </thead>\n",
       "  <tbody>\n",
       "    <tr>\n",
       "      <th>0</th>\n",
       "      <td>AMM Global Enterprises</td>\n",
       "      <td>9</td>\n",
       "    </tr>\n",
       "    <tr>\n",
       "      <th>1</th>\n",
       "      <td>ARGOM TECH</td>\n",
       "      <td>2</td>\n",
       "    </tr>\n",
       "    <tr>\n",
       "      <th>2</th>\n",
       "      <td>ASUS</td>\n",
       "      <td>401</td>\n",
       "    </tr>\n",
       "    <tr>\n",
       "      <th>3</th>\n",
       "      <td>ASUS Computers</td>\n",
       "      <td>582</td>\n",
       "    </tr>\n",
       "    <tr>\n",
       "      <th>4</th>\n",
       "      <td>AT&amp;T</td>\n",
       "      <td>1</td>\n",
       "    </tr>\n",
       "    <tr>\n",
       "      <th>...</th>\n",
       "      <td>...</td>\n",
       "      <td>...</td>\n",
       "    </tr>\n",
       "    <tr>\n",
       "      <th>373</th>\n",
       "      <td>star</td>\n",
       "      <td>29</td>\n",
       "    </tr>\n",
       "    <tr>\n",
       "      <th>374</th>\n",
       "      <td>the Nokia</td>\n",
       "      <td>8</td>\n",
       "    </tr>\n",
       "    <tr>\n",
       "      <th>375</th>\n",
       "      <td>verykool</td>\n",
       "      <td>1005</td>\n",
       "    </tr>\n",
       "    <tr>\n",
       "      <th>376</th>\n",
       "      <td>winwinzonece</td>\n",
       "      <td>2</td>\n",
       "    </tr>\n",
       "    <tr>\n",
       "      <th>377</th>\n",
       "      <td>worryfree</td>\n",
       "      <td>3</td>\n",
       "    </tr>\n",
       "  </tbody>\n",
       "</table>\n",
       "<p>378 rows × 2 columns</p>\n",
       "</div>"
      ],
      "text/plain": [
       "                 Brand Name  Reviews\n",
       "0    AMM Global Enterprises        9\n",
       "1                ARGOM TECH        2\n",
       "2                      ASUS      401\n",
       "3            ASUS Computers      582\n",
       "4                      AT&T        1\n",
       "..                      ...      ...\n",
       "373                    star       29\n",
       "374               the Nokia        8\n",
       "375                verykool     1005\n",
       "376            winwinzonece        2\n",
       "377               worryfree        3\n",
       "\n",
       "[378 rows x 2 columns]"
      ]
     },
     "execution_count": 21,
     "metadata": {},
     "output_type": "execute_result"
    }
   ],
   "source": [
    "total_review=review.reset_index()\n",
    "total_review"
   ]
  },
  {
   "cell_type": "code",
   "execution_count": 22,
   "id": "0f742a2f-ca0e-465d-9ee0-f84aeb56058e",
   "metadata": {},
   "outputs": [
    {
     "data": {
      "text/html": [
       "<div>\n",
       "<style scoped>\n",
       "    .dataframe tbody tr th:only-of-type {\n",
       "        vertical-align: middle;\n",
       "    }\n",
       "\n",
       "    .dataframe tbody tr th {\n",
       "        vertical-align: top;\n",
       "    }\n",
       "\n",
       "    .dataframe thead th {\n",
       "        text-align: right;\n",
       "    }\n",
       "</style>\n",
       "<table border=\"1\" class=\"dataframe\">\n",
       "  <thead>\n",
       "    <tr style=\"text-align: right;\">\n",
       "      <th></th>\n",
       "      <th>Brand Name</th>\n",
       "      <th>Review count</th>\n",
       "    </tr>\n",
       "  </thead>\n",
       "  <tbody>\n",
       "    <tr>\n",
       "      <th>0</th>\n",
       "      <td>AMM Global Enterprises</td>\n",
       "      <td>9</td>\n",
       "    </tr>\n",
       "    <tr>\n",
       "      <th>1</th>\n",
       "      <td>ARGOM TECH</td>\n",
       "      <td>2</td>\n",
       "    </tr>\n",
       "    <tr>\n",
       "      <th>2</th>\n",
       "      <td>ASUS</td>\n",
       "      <td>401</td>\n",
       "    </tr>\n",
       "    <tr>\n",
       "      <th>3</th>\n",
       "      <td>ASUS Computers</td>\n",
       "      <td>582</td>\n",
       "    </tr>\n",
       "    <tr>\n",
       "      <th>4</th>\n",
       "      <td>AT&amp;T</td>\n",
       "      <td>1</td>\n",
       "    </tr>\n",
       "    <tr>\n",
       "      <th>...</th>\n",
       "      <td>...</td>\n",
       "      <td>...</td>\n",
       "    </tr>\n",
       "    <tr>\n",
       "      <th>373</th>\n",
       "      <td>star</td>\n",
       "      <td>29</td>\n",
       "    </tr>\n",
       "    <tr>\n",
       "      <th>374</th>\n",
       "      <td>the Nokia</td>\n",
       "      <td>8</td>\n",
       "    </tr>\n",
       "    <tr>\n",
       "      <th>375</th>\n",
       "      <td>verykool</td>\n",
       "      <td>1005</td>\n",
       "    </tr>\n",
       "    <tr>\n",
       "      <th>376</th>\n",
       "      <td>winwinzonece</td>\n",
       "      <td>2</td>\n",
       "    </tr>\n",
       "    <tr>\n",
       "      <th>377</th>\n",
       "      <td>worryfree</td>\n",
       "      <td>3</td>\n",
       "    </tr>\n",
       "  </tbody>\n",
       "</table>\n",
       "<p>378 rows × 2 columns</p>\n",
       "</div>"
      ],
      "text/plain": [
       "                 Brand Name  Review count\n",
       "0    AMM Global Enterprises             9\n",
       "1                ARGOM TECH             2\n",
       "2                      ASUS           401\n",
       "3            ASUS Computers           582\n",
       "4                      AT&T             1\n",
       "..                      ...           ...\n",
       "373                    star            29\n",
       "374               the Nokia             8\n",
       "375                verykool          1005\n",
       "376            winwinzonece             2\n",
       "377               worryfree             3\n",
       "\n",
       "[378 rows x 2 columns]"
      ]
     },
     "execution_count": 22,
     "metadata": {},
     "output_type": "execute_result"
    }
   ],
   "source": [
    "count_review=total_review.rename({'Reviews':'Review count'},axis=1)\n",
    "count_review"
   ]
  },
  {
   "cell_type": "code",
   "execution_count": 23,
   "id": "8f125665-a845-4bf5-af62-a92eea7301f3",
   "metadata": {},
   "outputs": [
    {
     "data": {
      "text/html": [
       "<div>\n",
       "<style scoped>\n",
       "    .dataframe tbody tr th:only-of-type {\n",
       "        vertical-align: middle;\n",
       "    }\n",
       "\n",
       "    .dataframe tbody tr th {\n",
       "        vertical-align: top;\n",
       "    }\n",
       "\n",
       "    .dataframe thead th {\n",
       "        text-align: right;\n",
       "    }\n",
       "</style>\n",
       "<table border=\"1\" class=\"dataframe\">\n",
       "  <thead>\n",
       "    <tr style=\"text-align: right;\">\n",
       "      <th></th>\n",
       "      <th>Brand Name</th>\n",
       "      <th>Review count</th>\n",
       "    </tr>\n",
       "  </thead>\n",
       "  <tbody>\n",
       "    <tr>\n",
       "      <th>247</th>\n",
       "      <td>Samsung</td>\n",
       "      <td>52313</td>\n",
       "    </tr>\n",
       "    <tr>\n",
       "      <th>18</th>\n",
       "      <td>BLU</td>\n",
       "      <td>48112</td>\n",
       "    </tr>\n",
       "    <tr>\n",
       "      <th>13</th>\n",
       "      <td>Apple</td>\n",
       "      <td>48068</td>\n",
       "    </tr>\n",
       "    <tr>\n",
       "      <th>147</th>\n",
       "      <td>LG</td>\n",
       "      <td>18347</td>\n",
       "    </tr>\n",
       "    <tr>\n",
       "      <th>186</th>\n",
       "      <td>Nokia</td>\n",
       "      <td>14209</td>\n",
       "    </tr>\n",
       "    <tr>\n",
       "      <th>21</th>\n",
       "      <td>BlackBerry</td>\n",
       "      <td>13557</td>\n",
       "    </tr>\n",
       "    <tr>\n",
       "      <th>179</th>\n",
       "      <td>Motorola</td>\n",
       "      <td>10829</td>\n",
       "    </tr>\n",
       "    <tr>\n",
       "      <th>106</th>\n",
       "      <td>HTC</td>\n",
       "      <td>10601</td>\n",
       "    </tr>\n",
       "    <tr>\n",
       "      <th>40</th>\n",
       "      <td>CNPGD</td>\n",
       "      <td>10133</td>\n",
       "    </tr>\n",
       "    <tr>\n",
       "      <th>270</th>\n",
       "      <td>Sony</td>\n",
       "      <td>6441</td>\n",
       "    </tr>\n",
       "  </tbody>\n",
       "</table>\n",
       "</div>"
      ],
      "text/plain": [
       "     Brand Name  Review count\n",
       "247     Samsung         52313\n",
       "18          BLU         48112\n",
       "13        Apple         48068\n",
       "147          LG         18347\n",
       "186       Nokia         14209\n",
       "21   BlackBerry         13557\n",
       "179    Motorola         10829\n",
       "106         HTC         10601\n",
       "40        CNPGD         10133\n",
       "270        Sony          6441"
      ]
     },
     "execution_count": 23,
     "metadata": {},
     "output_type": "execute_result"
    }
   ],
   "source": [
    "best_selling=count_review.sort_values(by=\"Review count\",ascending=False).head(10)\n",
    "best_selling"
   ]
  },
  {
   "cell_type": "code",
   "execution_count": 24,
   "id": "78a6c5ee-ede9-4f0c-8341-b56a9e6685eb",
   "metadata": {},
   "outputs": [
    {
     "data": {
      "image/png": "[encoded data removed]",
      "text/plain": [
       "<Figure size 1000x500 with 1 Axes>"
      ]
     },
     "metadata": {},
     "output_type": "display_data"
    }
   ],
   "source": [
    "sns.set_style('darkgrid')\n",
    "plt.figure(figsize=(10,5))\n",
    "sns.barplot(x='Brand Name',y='Review count',data=best_selling,palette='muted')\n",
    "plt.title('The top ten best-selling mobile phone brands in Amazon',fontsize=15)\n",
    "plt.xlabel('Brand name',fontsize=12)\n",
    "plt.ylabel('Review count',fontsize=12)\n",
    "plt.savefig('q1')\n",
    "plt.show()"
   ]
  },
  {
   "cell_type": "markdown",
   "id": "ba491dc5-ceb4-4909-ba2a-14deeec91239",
   "metadata": {},
   "source": [
    "* In the above graph, we observe that Samsung is the highest-selling mobile phone brand among the top ten best-selling brands on Amazon. This observation highlights Samsung's strong performance in the market."
   ]
  },
  {
   "cell_type": "markdown",
   "id": "f086b7a0-da7a-4d14-9e2d-d87b8046d4e5",
   "metadata": {},
   "source": [
    "### 2. Which unlocked mobile phone brand has the highest average price?"
   ]
  },
  {
   "cell_type": "code",
   "execution_count": 25,
   "id": "b66041ce-93d2-4c7d-99f0-73af7fbaf2cd",
   "metadata": {},
   "outputs": [
    {
     "data": {
      "text/html": [
       "<div>\n",
       "<style scoped>\n",
       "    .dataframe tbody tr th:only-of-type {\n",
       "        vertical-align: middle;\n",
       "    }\n",
       "\n",
       "    .dataframe tbody tr th {\n",
       "        vertical-align: top;\n",
       "    }\n",
       "\n",
       "    .dataframe thead th {\n",
       "        text-align: right;\n",
       "    }\n",
       "</style>\n",
       "<table border=\"1\" class=\"dataframe\">\n",
       "  <thead>\n",
       "    <tr style=\"text-align: right;\">\n",
       "      <th></th>\n",
       "      <th>Product Name</th>\n",
       "      <th>Brand Name</th>\n",
       "      <th>Price</th>\n",
       "      <th>Rating</th>\n",
       "      <th>Reviews</th>\n",
       "      <th>Review Votes</th>\n",
       "    </tr>\n",
       "  </thead>\n",
       "  <tbody>\n",
       "    <tr>\n",
       "      <th>0</th>\n",
       "      <td>\"CLEAR CLEAN ESN\" Sprint EPIC 4G Galaxy SPH-D7...</td>\n",
       "      <td>Samsung</td>\n",
       "      <td>199.99</td>\n",
       "      <td>5</td>\n",
       "      <td>I feel so LUCKY to have found this used (phone...</td>\n",
       "      <td>1.0</td>\n",
       "    </tr>\n",
       "    <tr>\n",
       "      <th>1</th>\n",
       "      <td>\"CLEAR CLEAN ESN\" Sprint EPIC 4G Galaxy SPH-D7...</td>\n",
       "      <td>Samsung</td>\n",
       "      <td>199.99</td>\n",
       "      <td>4</td>\n",
       "      <td>nice phone, nice up grade from my pantach revu...</td>\n",
       "      <td>0.0</td>\n",
       "    </tr>\n",
       "    <tr>\n",
       "      <th>2</th>\n",
       "      <td>\"CLEAR CLEAN ESN\" Sprint EPIC 4G Galaxy SPH-D7...</td>\n",
       "      <td>Samsung</td>\n",
       "      <td>199.99</td>\n",
       "      <td>5</td>\n",
       "      <td>Very pleased</td>\n",
       "      <td>0.0</td>\n",
       "    </tr>\n",
       "    <tr>\n",
       "      <th>3</th>\n",
       "      <td>\"CLEAR CLEAN ESN\" Sprint EPIC 4G Galaxy SPH-D7...</td>\n",
       "      <td>Samsung</td>\n",
       "      <td>199.99</td>\n",
       "      <td>4</td>\n",
       "      <td>It works good but it goes slow sometimes but i...</td>\n",
       "      <td>0.0</td>\n",
       "    </tr>\n",
       "    <tr>\n",
       "      <th>4</th>\n",
       "      <td>\"CLEAR CLEAN ESN\" Sprint EPIC 4G Galaxy SPH-D7...</td>\n",
       "      <td>Samsung</td>\n",
       "      <td>199.99</td>\n",
       "      <td>4</td>\n",
       "      <td>Great phone to replace my lost phone. The only...</td>\n",
       "      <td>0.0</td>\n",
       "    </tr>\n",
       "  </tbody>\n",
       "</table>\n",
       "</div>"
      ],
      "text/plain": [
       "                                        Product Name Brand Name   Price  \\\n",
       "0  \"CLEAR CLEAN ESN\" Sprint EPIC 4G Galaxy SPH-D7...    Samsung  199.99   \n",
       "1  \"CLEAR CLEAN ESN\" Sprint EPIC 4G Galaxy SPH-D7...    Samsung  199.99   \n",
       "2  \"CLEAR CLEAN ESN\" Sprint EPIC 4G Galaxy SPH-D7...    Samsung  199.99   \n",
       "3  \"CLEAR CLEAN ESN\" Sprint EPIC 4G Galaxy SPH-D7...    Samsung  199.99   \n",
       "4  \"CLEAR CLEAN ESN\" Sprint EPIC 4G Galaxy SPH-D7...    Samsung  199.99   \n",
       "\n",
       "   Rating                                            Reviews  Review Votes  \n",
       "0       5  I feel so LUCKY to have found this used (phone...           1.0  \n",
       "1       4  nice phone, nice up grade from my pantach revu...           0.0  \n",
       "2       5                                       Very pleased           0.0  \n",
       "3       4  It works good but it goes slow sometimes but i...           0.0  \n",
       "4       4  Great phone to replace my lost phone. The only...           0.0  "
      ]
     },
     "execution_count": 25,
     "metadata": {},
     "output_type": "execute_result"
    }
   ],
   "source": [
    "df.head(5)"
   ]
  },
  {
   "cell_type": "code",
   "execution_count": 26,
   "id": "aef5e4ed-976f-4b75-9e34-91aa2d01155b",
   "metadata": {},
   "outputs": [
    {
     "data": {
      "text/html": [
       "<div>\n",
       "<style scoped>\n",
       "    .dataframe tbody tr th:only-of-type {\n",
       "        vertical-align: middle;\n",
       "    }\n",
       "\n",
       "    .dataframe tbody tr th {\n",
       "        vertical-align: top;\n",
       "    }\n",
       "\n",
       "    .dataframe thead th {\n",
       "        text-align: right;\n",
       "    }\n",
       "</style>\n",
       "<table border=\"1\" class=\"dataframe\">\n",
       "  <thead>\n",
       "    <tr style=\"text-align: right;\">\n",
       "      <th></th>\n",
       "      <th>Brand Name</th>\n",
       "      <th>Price</th>\n",
       "    </tr>\n",
       "  </thead>\n",
       "  <tbody>\n",
       "    <tr>\n",
       "      <th>0</th>\n",
       "      <td>AMM Global Enterprises</td>\n",
       "      <td>29.990000</td>\n",
       "    </tr>\n",
       "    <tr>\n",
       "      <th>1</th>\n",
       "      <td>ARGOM TECH</td>\n",
       "      <td>111.720000</td>\n",
       "    </tr>\n",
       "    <tr>\n",
       "      <th>2</th>\n",
       "      <td>ASUS</td>\n",
       "      <td>257.635536</td>\n",
       "    </tr>\n",
       "    <tr>\n",
       "      <th>3</th>\n",
       "      <td>ASUS Computers</td>\n",
       "      <td>229.000000</td>\n",
       "    </tr>\n",
       "    <tr>\n",
       "      <th>4</th>\n",
       "      <td>AT&amp;T</td>\n",
       "      <td>3.990000</td>\n",
       "    </tr>\n",
       "    <tr>\n",
       "      <th>...</th>\n",
       "      <td>...</td>\n",
       "      <td>...</td>\n",
       "    </tr>\n",
       "    <tr>\n",
       "      <th>373</th>\n",
       "      <td>star</td>\n",
       "      <td>81.500000</td>\n",
       "    </tr>\n",
       "    <tr>\n",
       "      <th>374</th>\n",
       "      <td>the Nokia</td>\n",
       "      <td>229.990000</td>\n",
       "    </tr>\n",
       "    <tr>\n",
       "      <th>375</th>\n",
       "      <td>verykool</td>\n",
       "      <td>88.807552</td>\n",
       "    </tr>\n",
       "    <tr>\n",
       "      <th>376</th>\n",
       "      <td>winwinzonece</td>\n",
       "      <td>26.990000</td>\n",
       "    </tr>\n",
       "    <tr>\n",
       "      <th>377</th>\n",
       "      <td>worryfree</td>\n",
       "      <td>19.440000</td>\n",
       "    </tr>\n",
       "  </tbody>\n",
       "</table>\n",
       "<p>378 rows × 2 columns</p>\n",
       "</div>"
      ],
      "text/plain": [
       "                 Brand Name       Price\n",
       "0    AMM Global Enterprises   29.990000\n",
       "1                ARGOM TECH  111.720000\n",
       "2                      ASUS  257.635536\n",
       "3            ASUS Computers  229.000000\n",
       "4                      AT&T    3.990000\n",
       "..                      ...         ...\n",
       "373                    star   81.500000\n",
       "374               the Nokia  229.990000\n",
       "375                verykool   88.807552\n",
       "376            winwinzonece   26.990000\n",
       "377               worryfree   19.440000\n",
       "\n",
       "[378 rows x 2 columns]"
      ]
     },
     "execution_count": 26,
     "metadata": {},
     "output_type": "execute_result"
    }
   ],
   "source": [
    "avg_price=df.groupby('Brand Name')['Price'].mean().reset_index()\n",
    "avg_price"
   ]
  },
  {
   "cell_type": "code",
   "execution_count": 27,
   "id": "8c863eee-6d84-47f6-8157-2290aa0a03ef",
   "metadata": {},
   "outputs": [
    {
     "data": {
      "text/html": [
       "<div>\n",
       "<style scoped>\n",
       "    .dataframe tbody tr th:only-of-type {\n",
       "        vertical-align: middle;\n",
       "    }\n",
       "\n",
       "    .dataframe tbody tr th {\n",
       "        vertical-align: top;\n",
       "    }\n",
       "\n",
       "    .dataframe thead th {\n",
       "        text-align: right;\n",
       "    }\n",
       "</style>\n",
       "<table border=\"1\" class=\"dataframe\">\n",
       "  <thead>\n",
       "    <tr style=\"text-align: right;\">\n",
       "      <th></th>\n",
       "      <th>Brand Name</th>\n",
       "      <th>Price</th>\n",
       "    </tr>\n",
       "  </thead>\n",
       "  <tbody>\n",
       "    <tr>\n",
       "      <th>216</th>\n",
       "      <td>PowerMoxie</td>\n",
       "      <td>2000.0</td>\n",
       "    </tr>\n",
       "  </tbody>\n",
       "</table>\n",
       "</div>"
      ],
      "text/plain": [
       "     Brand Name   Price\n",
       "216  PowerMoxie  2000.0"
      ]
     },
     "execution_count": 27,
     "metadata": {},
     "output_type": "execute_result"
    }
   ],
   "source": [
    "highest_avg_price=avg_price.sort_values(by='Price',ascending=False).head(1)\n",
    "highest_avg_price"
   ]
  },
  {
   "cell_type": "code",
   "execution_count": 28,
   "id": "b8ab7739-08e6-4ff2-ad63-b0e116d67483",
   "metadata": {},
   "outputs": [
    {
     "data": {
      "text/html": [
       "<div>\n",
       "<style scoped>\n",
       "    .dataframe tbody tr th:only-of-type {\n",
       "        vertical-align: middle;\n",
       "    }\n",
       "\n",
       "    .dataframe tbody tr th {\n",
       "        vertical-align: top;\n",
       "    }\n",
       "\n",
       "    .dataframe thead th {\n",
       "        text-align: right;\n",
       "    }\n",
       "</style>\n",
       "<table border=\"1\" class=\"dataframe\">\n",
       "  <thead>\n",
       "    <tr style=\"text-align: right;\">\n",
       "      <th></th>\n",
       "      <th>Brand Name</th>\n",
       "      <th>Price</th>\n",
       "    </tr>\n",
       "  </thead>\n",
       "  <tbody>\n",
       "    <tr>\n",
       "      <th>5</th>\n",
       "      <td>ATT</td>\n",
       "      <td>2.29</td>\n",
       "    </tr>\n",
       "  </tbody>\n",
       "</table>\n",
       "</div>"
      ],
      "text/plain": [
       "  Brand Name  Price\n",
       "5        ATT   2.29"
      ]
     },
     "execution_count": 28,
     "metadata": {},
     "output_type": "execute_result"
    }
   ],
   "source": [
    "lowest_avg_price= avg_price.sort_values(by='Price').head(1)\n",
    "lowest_avg_price"
   ]
  },
  {
   "cell_type": "code",
   "execution_count": 57,
   "id": "5fe99375-7322-40ae-8a04-0df76e3eafd1",
   "metadata": {},
   "outputs": [
    {
     "data": {
      "image/png": "[encoded data removed]",
      "text/plain": [
       "<Figure size 600x700 with 2 Axes>"
      ]
     },
     "metadata": {},
     "output_type": "display_data"
    }
   ],
   "source": [
    "plt.figure(figsize=(6,7))\n",
    "plt.subplot(2,1,1)\n",
    "sns.barplot(y='Brand Name',x='Price',data=highest_avg_price,width=0.5,palette='PuBuGn_r')\n",
    "plt.title(\"The Unlocked Mobile Phone Brand with the Highest Average Price\",fontsize=14)\n",
    "plt.xlabel('Average price',fontsize=12)\n",
    "plt.ylabel('Brand name',fontsize=12)\n",
    "\n",
    "plt.subplot(2,1,2)\n",
    "sns.barplot(y='Brand Name',x='Price',data=lowest_avg_price,width=0.5,palette='BuGn_r')\n",
    "plt.title(\"The Unlocked Mobile Phone Brand with the Lowest Average Price\",fontsize=14)\n",
    "plt.xlabel('Average price',fontsize=12)\n",
    "plt.ylabel('Brand name',fontsize=12)\n",
    "plt.tight_layout()\n",
    "plt.savefig('q2')\n",
    "plt.show()"
   ]
  },
  {
   "cell_type": "markdown",
   "id": "21251ca7-ca72-469f-87ae-65c7918fc90e",
   "metadata": {},
   "source": [
    "* From the two graphs above, we can see that the PowerMoxie mobile phone brand has the highest average price (2000 Dollar), while the ATT mobile phone brand has the lowest average price (around 2.5 Dollar)."
   ]
  },
  {
   "cell_type": "markdown",
   "id": "554ee28b-97e7-4687-9694-6917d2521945",
   "metadata": {},
   "source": [
    "### 3) Which unlocked mobile phone brands have the highest average rating ?"
   ]
  },
  {
   "cell_type": "code",
   "execution_count": 30,
   "id": "d1153d7b-3eda-498e-badb-f4fe284a4bf0",
   "metadata": {},
   "outputs": [
    {
     "data": {
      "text/html": [
       "<div>\n",
       "<style scoped>\n",
       "    .dataframe tbody tr th:only-of-type {\n",
       "        vertical-align: middle;\n",
       "    }\n",
       "\n",
       "    .dataframe tbody tr th {\n",
       "        vertical-align: top;\n",
       "    }\n",
       "\n",
       "    .dataframe thead th {\n",
       "        text-align: right;\n",
       "    }\n",
       "</style>\n",
       "<table border=\"1\" class=\"dataframe\">\n",
       "  <thead>\n",
       "    <tr style=\"text-align: right;\">\n",
       "      <th></th>\n",
       "      <th>Product Name</th>\n",
       "      <th>Brand Name</th>\n",
       "      <th>Price</th>\n",
       "      <th>Rating</th>\n",
       "      <th>Reviews</th>\n",
       "      <th>Review Votes</th>\n",
       "    </tr>\n",
       "  </thead>\n",
       "  <tbody>\n",
       "    <tr>\n",
       "      <th>0</th>\n",
       "      <td>\"CLEAR CLEAN ESN\" Sprint EPIC 4G Galaxy SPH-D7...</td>\n",
       "      <td>Samsung</td>\n",
       "      <td>199.99</td>\n",
       "      <td>5</td>\n",
       "      <td>I feel so LUCKY to have found this used (phone...</td>\n",
       "      <td>1.0</td>\n",
       "    </tr>\n",
       "    <tr>\n",
       "      <th>1</th>\n",
       "      <td>\"CLEAR CLEAN ESN\" Sprint EPIC 4G Galaxy SPH-D7...</td>\n",
       "      <td>Samsung</td>\n",
       "      <td>199.99</td>\n",
       "      <td>4</td>\n",
       "      <td>nice phone, nice up grade from my pantach revu...</td>\n",
       "      <td>0.0</td>\n",
       "    </tr>\n",
       "    <tr>\n",
       "      <th>2</th>\n",
       "      <td>\"CLEAR CLEAN ESN\" Sprint EPIC 4G Galaxy SPH-D7...</td>\n",
       "      <td>Samsung</td>\n",
       "      <td>199.99</td>\n",
       "      <td>5</td>\n",
       "      <td>Very pleased</td>\n",
       "      <td>0.0</td>\n",
       "    </tr>\n",
       "    <tr>\n",
       "      <th>3</th>\n",
       "      <td>\"CLEAR CLEAN ESN\" Sprint EPIC 4G Galaxy SPH-D7...</td>\n",
       "      <td>Samsung</td>\n",
       "      <td>199.99</td>\n",
       "      <td>4</td>\n",
       "      <td>It works good but it goes slow sometimes but i...</td>\n",
       "      <td>0.0</td>\n",
       "    </tr>\n",
       "    <tr>\n",
       "      <th>4</th>\n",
       "      <td>\"CLEAR CLEAN ESN\" Sprint EPIC 4G Galaxy SPH-D7...</td>\n",
       "      <td>Samsung</td>\n",
       "      <td>199.99</td>\n",
       "      <td>4</td>\n",
       "      <td>Great phone to replace my lost phone. The only...</td>\n",
       "      <td>0.0</td>\n",
       "    </tr>\n",
       "  </tbody>\n",
       "</table>\n",
       "</div>"
      ],
      "text/plain": [
       "                                        Product Name Brand Name   Price  \\\n",
       "0  \"CLEAR CLEAN ESN\" Sprint EPIC 4G Galaxy SPH-D7...    Samsung  199.99   \n",
       "1  \"CLEAR CLEAN ESN\" Sprint EPIC 4G Galaxy SPH-D7...    Samsung  199.99   \n",
       "2  \"CLEAR CLEAN ESN\" Sprint EPIC 4G Galaxy SPH-D7...    Samsung  199.99   \n",
       "3  \"CLEAR CLEAN ESN\" Sprint EPIC 4G Galaxy SPH-D7...    Samsung  199.99   \n",
       "4  \"CLEAR CLEAN ESN\" Sprint EPIC 4G Galaxy SPH-D7...    Samsung  199.99   \n",
       "\n",
       "   Rating                                            Reviews  Review Votes  \n",
       "0       5  I feel so LUCKY to have found this used (phone...           1.0  \n",
       "1       4  nice phone, nice up grade from my pantach revu...           0.0  \n",
       "2       5                                       Very pleased           0.0  \n",
       "3       4  It works good but it goes slow sometimes but i...           0.0  \n",
       "4       4  Great phone to replace my lost phone. The only...           0.0  "
      ]
     },
     "execution_count": 30,
     "metadata": {},
     "output_type": "execute_result"
    }
   ],
   "source": [
    "df.head(5)"
   ]
  },
  {
   "cell_type": "code",
   "execution_count": 31,
   "id": "974c00bc-4566-4b89-afd4-0e212cb667ff",
   "metadata": {},
   "outputs": [
    {
     "data": {
      "text/html": [
       "<div>\n",
       "<style scoped>\n",
       "    .dataframe tbody tr th:only-of-type {\n",
       "        vertical-align: middle;\n",
       "    }\n",
       "\n",
       "    .dataframe tbody tr th {\n",
       "        vertical-align: top;\n",
       "    }\n",
       "\n",
       "    .dataframe thead th {\n",
       "        text-align: right;\n",
       "    }\n",
       "</style>\n",
       "<table border=\"1\" class=\"dataframe\">\n",
       "  <thead>\n",
       "    <tr style=\"text-align: right;\">\n",
       "      <th></th>\n",
       "      <th>Brand Name</th>\n",
       "      <th>Rating</th>\n",
       "    </tr>\n",
       "  </thead>\n",
       "  <tbody>\n",
       "    <tr>\n",
       "      <th>0</th>\n",
       "      <td>AMM Global Enterprises</td>\n",
       "      <td>4.888889</td>\n",
       "    </tr>\n",
       "    <tr>\n",
       "      <th>1</th>\n",
       "      <td>ARGOM TECH</td>\n",
       "      <td>3.000000</td>\n",
       "    </tr>\n",
       "    <tr>\n",
       "      <th>2</th>\n",
       "      <td>ASUS</td>\n",
       "      <td>4.476309</td>\n",
       "    </tr>\n",
       "    <tr>\n",
       "      <th>3</th>\n",
       "      <td>ASUS Computers</td>\n",
       "      <td>4.020619</td>\n",
       "    </tr>\n",
       "    <tr>\n",
       "      <th>4</th>\n",
       "      <td>AT&amp;T</td>\n",
       "      <td>5.000000</td>\n",
       "    </tr>\n",
       "    <tr>\n",
       "      <th>...</th>\n",
       "      <td>...</td>\n",
       "      <td>...</td>\n",
       "    </tr>\n",
       "    <tr>\n",
       "      <th>373</th>\n",
       "      <td>star</td>\n",
       "      <td>3.344828</td>\n",
       "    </tr>\n",
       "    <tr>\n",
       "      <th>374</th>\n",
       "      <td>the Nokia</td>\n",
       "      <td>3.000000</td>\n",
       "    </tr>\n",
       "    <tr>\n",
       "      <th>375</th>\n",
       "      <td>verykool</td>\n",
       "      <td>3.611940</td>\n",
       "    </tr>\n",
       "    <tr>\n",
       "      <th>376</th>\n",
       "      <td>winwinzonece</td>\n",
       "      <td>4.000000</td>\n",
       "    </tr>\n",
       "    <tr>\n",
       "      <th>377</th>\n",
       "      <td>worryfree</td>\n",
       "      <td>3.000000</td>\n",
       "    </tr>\n",
       "  </tbody>\n",
       "</table>\n",
       "<p>378 rows × 2 columns</p>\n",
       "</div>"
      ],
      "text/plain": [
       "                 Brand Name    Rating\n",
       "0    AMM Global Enterprises  4.888889\n",
       "1                ARGOM TECH  3.000000\n",
       "2                      ASUS  4.476309\n",
       "3            ASUS Computers  4.020619\n",
       "4                      AT&T  5.000000\n",
       "..                      ...       ...\n",
       "373                    star  3.344828\n",
       "374               the Nokia  3.000000\n",
       "375                verykool  3.611940\n",
       "376            winwinzonece  4.000000\n",
       "377               worryfree  3.000000\n",
       "\n",
       "[378 rows x 2 columns]"
      ]
     },
     "execution_count": 31,
     "metadata": {},
     "output_type": "execute_result"
    }
   ],
   "source": [
    "brand_avg_rating=df.groupby('Brand Name')['Rating'].mean().reset_index()\n",
    "brand_avg_rating"
   ]
  },
  {
   "cell_type": "code",
   "execution_count": 32,
   "id": "e2ffcc68-6b33-4b45-9b40-746bc9fa7edc",
   "metadata": {
    "tags": []
   },
   "outputs": [
    {
     "data": {
      "text/html": [
       "<div>\n",
       "<style scoped>\n",
       "    .dataframe tbody tr th:only-of-type {\n",
       "        vertical-align: middle;\n",
       "    }\n",
       "\n",
       "    .dataframe tbody tr th {\n",
       "        vertical-align: top;\n",
       "    }\n",
       "\n",
       "    .dataframe thead th {\n",
       "        text-align: right;\n",
       "    }\n",
       "</style>\n",
       "<table border=\"1\" class=\"dataframe\">\n",
       "  <thead>\n",
       "    <tr style=\"text-align: right;\">\n",
       "      <th></th>\n",
       "      <th>Brand Name</th>\n",
       "      <th>Rating</th>\n",
       "    </tr>\n",
       "  </thead>\n",
       "  <tbody>\n",
       "    <tr>\n",
       "      <th>348</th>\n",
       "      <td>iNew</td>\n",
       "      <td>5.0</td>\n",
       "    </tr>\n",
       "    <tr>\n",
       "      <th>275</th>\n",
       "      <td>Spicy World</td>\n",
       "      <td>5.0</td>\n",
       "    </tr>\n",
       "    <tr>\n",
       "      <th>120</th>\n",
       "      <td>Iridium</td>\n",
       "      <td>5.0</td>\n",
       "    </tr>\n",
       "    <tr>\n",
       "      <th>28</th>\n",
       "      <td>Bluboo</td>\n",
       "      <td>5.0</td>\n",
       "    </tr>\n",
       "    <tr>\n",
       "      <th>136</th>\n",
       "      <td>KINGZONE</td>\n",
       "      <td>5.0</td>\n",
       "    </tr>\n",
       "    <tr>\n",
       "      <th>311</th>\n",
       "      <td>VIP</td>\n",
       "      <td>5.0</td>\n",
       "    </tr>\n",
       "    <tr>\n",
       "      <th>148</th>\n",
       "      <td>LG Electronic</td>\n",
       "      <td>5.0</td>\n",
       "    </tr>\n",
       "    <tr>\n",
       "      <th>154</th>\n",
       "      <td>LeEco</td>\n",
       "      <td>5.0</td>\n",
       "    </tr>\n",
       "    <tr>\n",
       "      <th>168</th>\n",
       "      <td>MICROSOFT</td>\n",
       "      <td>5.0</td>\n",
       "    </tr>\n",
       "    <tr>\n",
       "      <th>372</th>\n",
       "      <td>ssiony</td>\n",
       "      <td>5.0</td>\n",
       "    </tr>\n",
       "    <tr>\n",
       "      <th>296</th>\n",
       "      <td>TracFone</td>\n",
       "      <td>5.0</td>\n",
       "    </tr>\n",
       "    <tr>\n",
       "      <th>175</th>\n",
       "      <td>Meizu</td>\n",
       "      <td>5.0</td>\n",
       "    </tr>\n",
       "    <tr>\n",
       "      <th>188</th>\n",
       "      <td>OLA Products</td>\n",
       "      <td>5.0</td>\n",
       "    </tr>\n",
       "    <tr>\n",
       "      <th>349</th>\n",
       "      <td>iPartsBuy</td>\n",
       "      <td>5.0</td>\n",
       "    </tr>\n",
       "    <tr>\n",
       "      <th>211</th>\n",
       "      <td>Phone Baby</td>\n",
       "      <td>5.0</td>\n",
       "    </tr>\n",
       "    <tr>\n",
       "      <th>221</th>\n",
       "      <td>Quick-get</td>\n",
       "      <td>5.0</td>\n",
       "    </tr>\n",
       "    <tr>\n",
       "      <th>97</th>\n",
       "      <td>Grade - A</td>\n",
       "      <td>5.0</td>\n",
       "    </tr>\n",
       "    <tr>\n",
       "      <th>223</th>\n",
       "      <td>REACH</td>\n",
       "      <td>5.0</td>\n",
       "    </tr>\n",
       "    <tr>\n",
       "      <th>94</th>\n",
       "      <td>Goldengulf</td>\n",
       "      <td>5.0</td>\n",
       "    </tr>\n",
       "    <tr>\n",
       "      <th>229</th>\n",
       "      <td>RomaCostume</td>\n",
       "      <td>5.0</td>\n",
       "    </tr>\n",
       "    <tr>\n",
       "      <th>231</th>\n",
       "      <td>S7 active</td>\n",
       "      <td>5.0</td>\n",
       "    </tr>\n",
       "    <tr>\n",
       "      <th>86</th>\n",
       "      <td>GT STAR</td>\n",
       "      <td>5.0</td>\n",
       "    </tr>\n",
       "    <tr>\n",
       "      <th>258</th>\n",
       "      <td>Seawolf Technologies</td>\n",
       "      <td>5.0</td>\n",
       "    </tr>\n",
       "    <tr>\n",
       "      <th>8</th>\n",
       "      <td>AeroAntenna</td>\n",
       "      <td>5.0</td>\n",
       "    </tr>\n",
       "    <tr>\n",
       "      <th>7</th>\n",
       "      <td>Aeku</td>\n",
       "      <td>5.0</td>\n",
       "    </tr>\n",
       "    <tr>\n",
       "      <th>242</th>\n",
       "      <td>SONY ERICSSON</td>\n",
       "      <td>5.0</td>\n",
       "    </tr>\n",
       "    <tr>\n",
       "      <th>245</th>\n",
       "      <td>Saliency</td>\n",
       "      <td>5.0</td>\n",
       "    </tr>\n",
       "    <tr>\n",
       "      <th>4</th>\n",
       "      <td>AT&amp;T</td>\n",
       "      <td>5.0</td>\n",
       "    </tr>\n",
       "    <tr>\n",
       "      <th>84</th>\n",
       "      <td>GOOGLE</td>\n",
       "      <td>5.0</td>\n",
       "    </tr>\n",
       "    <tr>\n",
       "      <th>249</th>\n",
       "      <td>Samsung International</td>\n",
       "      <td>5.0</td>\n",
       "    </tr>\n",
       "    <tr>\n",
       "      <th>100</th>\n",
       "      <td>H2O</td>\n",
       "      <td>5.0</td>\n",
       "    </tr>\n",
       "  </tbody>\n",
       "</table>\n",
       "</div>"
      ],
      "text/plain": [
       "                Brand Name  Rating\n",
       "348                   iNew     5.0\n",
       "275            Spicy World     5.0\n",
       "120                Iridium     5.0\n",
       "28                  Bluboo     5.0\n",
       "136               KINGZONE     5.0\n",
       "311                    VIP     5.0\n",
       "148          LG Electronic     5.0\n",
       "154                  LeEco     5.0\n",
       "168              MICROSOFT     5.0\n",
       "372                 ssiony     5.0\n",
       "296               TracFone     5.0\n",
       "175                  Meizu     5.0\n",
       "188           OLA Products     5.0\n",
       "349              iPartsBuy     5.0\n",
       "211             Phone Baby     5.0\n",
       "221              Quick-get     5.0\n",
       "97               Grade - A     5.0\n",
       "223                  REACH     5.0\n",
       "94              Goldengulf     5.0\n",
       "229            RomaCostume     5.0\n",
       "231              S7 active     5.0\n",
       "86                 GT STAR     5.0\n",
       "258   Seawolf Technologies     5.0\n",
       "8              AeroAntenna     5.0\n",
       "7                     Aeku     5.0\n",
       "242          SONY ERICSSON     5.0\n",
       "245               Saliency     5.0\n",
       "4                     AT&T     5.0\n",
       "84                  GOOGLE     5.0\n",
       "249  Samsung International     5.0\n",
       "100                    H2O     5.0"
      ]
     },
     "execution_count": 32,
     "metadata": {},
     "output_type": "execute_result"
    }
   ],
   "source": [
    "highest_avg_rating=brand_avg_rating.sort_values(by='Rating',ascending=False).head(31)\n",
    "highest_avg_rating"
   ]
  },
  {
   "cell_type": "code",
   "execution_count": 58,
   "id": "187d6080-c8c4-4b96-b271-7d1825bf2234",
   "metadata": {},
   "outputs": [
    {
     "data": {
      "image/png": "[encoded data removed]",
      "text/plain": [
       "<Figure size 800x800 with 1 Axes>"
      ]
     },
     "metadata": {},
     "output_type": "display_data"
    }
   ],
   "source": [
    "plt.figure(figsize=(8,8))\n",
    "sns.barplot(y='Brand Name',x='Rating',data=highest_avg_rating)\n",
    "plt.title('The brands with the highest average ratings for unlocked mobile phones')\n",
    "plt.show()"
   ]
  },
  {
   "cell_type": "markdown",
   "id": "522bc86c-aec6-4a65-b884-615d23b6c2d3",
   "metadata": {},
   "source": [
    "* In the above graph, we can observe the mobile phone brands with the highest average rating. Here Each mobile phone brand has received a rating of 5."
   ]
  },
  {
   "cell_type": "markdown",
   "id": "d8690a38-2ba4-447a-8eaf-422fe1f12342",
   "metadata": {},
   "source": [
    "### 4) Which unlocked mobile phone brands have the lowest average rating ?"
   ]
  },
  {
   "cell_type": "code",
   "execution_count": 34,
   "id": "564e5594-6339-46e3-8fac-c50d6448da9b",
   "metadata": {},
   "outputs": [
    {
     "data": {
      "text/html": [
       "<div>\n",
       "<style scoped>\n",
       "    .dataframe tbody tr th:only-of-type {\n",
       "        vertical-align: middle;\n",
       "    }\n",
       "\n",
       "    .dataframe tbody tr th {\n",
       "        vertical-align: top;\n",
       "    }\n",
       "\n",
       "    .dataframe thead th {\n",
       "        text-align: right;\n",
       "    }\n",
       "</style>\n",
       "<table border=\"1\" class=\"dataframe\">\n",
       "  <thead>\n",
       "    <tr style=\"text-align: right;\">\n",
       "      <th></th>\n",
       "      <th>Product Name</th>\n",
       "      <th>Brand Name</th>\n",
       "      <th>Price</th>\n",
       "      <th>Rating</th>\n",
       "      <th>Reviews</th>\n",
       "      <th>Review Votes</th>\n",
       "    </tr>\n",
       "  </thead>\n",
       "  <tbody>\n",
       "    <tr>\n",
       "      <th>0</th>\n",
       "      <td>\"CLEAR CLEAN ESN\" Sprint EPIC 4G Galaxy SPH-D7...</td>\n",
       "      <td>Samsung</td>\n",
       "      <td>199.99</td>\n",
       "      <td>5</td>\n",
       "      <td>I feel so LUCKY to have found this used (phone...</td>\n",
       "      <td>1.0</td>\n",
       "    </tr>\n",
       "    <tr>\n",
       "      <th>1</th>\n",
       "      <td>\"CLEAR CLEAN ESN\" Sprint EPIC 4G Galaxy SPH-D7...</td>\n",
       "      <td>Samsung</td>\n",
       "      <td>199.99</td>\n",
       "      <td>4</td>\n",
       "      <td>nice phone, nice up grade from my pantach revu...</td>\n",
       "      <td>0.0</td>\n",
       "    </tr>\n",
       "    <tr>\n",
       "      <th>2</th>\n",
       "      <td>\"CLEAR CLEAN ESN\" Sprint EPIC 4G Galaxy SPH-D7...</td>\n",
       "      <td>Samsung</td>\n",
       "      <td>199.99</td>\n",
       "      <td>5</td>\n",
       "      <td>Very pleased</td>\n",
       "      <td>0.0</td>\n",
       "    </tr>\n",
       "  </tbody>\n",
       "</table>\n",
       "</div>"
      ],
      "text/plain": [
       "                                        Product Name Brand Name   Price  \\\n",
       "0  \"CLEAR CLEAN ESN\" Sprint EPIC 4G Galaxy SPH-D7...    Samsung  199.99   \n",
       "1  \"CLEAR CLEAN ESN\" Sprint EPIC 4G Galaxy SPH-D7...    Samsung  199.99   \n",
       "2  \"CLEAR CLEAN ESN\" Sprint EPIC 4G Galaxy SPH-D7...    Samsung  199.99   \n",
       "\n",
       "   Rating                                            Reviews  Review Votes  \n",
       "0       5  I feel so LUCKY to have found this used (phone...           1.0  \n",
       "1       4  nice phone, nice up grade from my pantach revu...           0.0  \n",
       "2       5                                       Very pleased           0.0  "
      ]
     },
     "execution_count": 34,
     "metadata": {},
     "output_type": "execute_result"
    }
   ],
   "source": [
    "df.head(3)"
   ]
  },
  {
   "cell_type": "code",
   "execution_count": 35,
   "id": "96c771f5-5674-4ba1-8a91-36b83e7a187c",
   "metadata": {},
   "outputs": [
    {
     "data": {
      "text/html": [
       "<div>\n",
       "<style scoped>\n",
       "    .dataframe tbody tr th:only-of-type {\n",
       "        vertical-align: middle;\n",
       "    }\n",
       "\n",
       "    .dataframe tbody tr th {\n",
       "        vertical-align: top;\n",
       "    }\n",
       "\n",
       "    .dataframe thead th {\n",
       "        text-align: right;\n",
       "    }\n",
       "</style>\n",
       "<table border=\"1\" class=\"dataframe\">\n",
       "  <thead>\n",
       "    <tr style=\"text-align: right;\">\n",
       "      <th></th>\n",
       "      <th>Brand Name</th>\n",
       "      <th>Rating</th>\n",
       "    </tr>\n",
       "  </thead>\n",
       "  <tbody>\n",
       "    <tr>\n",
       "      <th>0</th>\n",
       "      <td>AMM Global Enterprises</td>\n",
       "      <td>4.888889</td>\n",
       "    </tr>\n",
       "    <tr>\n",
       "      <th>1</th>\n",
       "      <td>ARGOM TECH</td>\n",
       "      <td>3.000000</td>\n",
       "    </tr>\n",
       "    <tr>\n",
       "      <th>2</th>\n",
       "      <td>ASUS</td>\n",
       "      <td>4.476309</td>\n",
       "    </tr>\n",
       "    <tr>\n",
       "      <th>3</th>\n",
       "      <td>ASUS Computers</td>\n",
       "      <td>4.020619</td>\n",
       "    </tr>\n",
       "    <tr>\n",
       "      <th>4</th>\n",
       "      <td>AT&amp;T</td>\n",
       "      <td>5.000000</td>\n",
       "    </tr>\n",
       "    <tr>\n",
       "      <th>...</th>\n",
       "      <td>...</td>\n",
       "      <td>...</td>\n",
       "    </tr>\n",
       "    <tr>\n",
       "      <th>373</th>\n",
       "      <td>star</td>\n",
       "      <td>3.344828</td>\n",
       "    </tr>\n",
       "    <tr>\n",
       "      <th>374</th>\n",
       "      <td>the Nokia</td>\n",
       "      <td>3.000000</td>\n",
       "    </tr>\n",
       "    <tr>\n",
       "      <th>375</th>\n",
       "      <td>verykool</td>\n",
       "      <td>3.611940</td>\n",
       "    </tr>\n",
       "    <tr>\n",
       "      <th>376</th>\n",
       "      <td>winwinzonece</td>\n",
       "      <td>4.000000</td>\n",
       "    </tr>\n",
       "    <tr>\n",
       "      <th>377</th>\n",
       "      <td>worryfree</td>\n",
       "      <td>3.000000</td>\n",
       "    </tr>\n",
       "  </tbody>\n",
       "</table>\n",
       "<p>378 rows × 2 columns</p>\n",
       "</div>"
      ],
      "text/plain": [
       "                 Brand Name    Rating\n",
       "0    AMM Global Enterprises  4.888889\n",
       "1                ARGOM TECH  3.000000\n",
       "2                      ASUS  4.476309\n",
       "3            ASUS Computers  4.020619\n",
       "4                      AT&T  5.000000\n",
       "..                      ...       ...\n",
       "373                    star  3.344828\n",
       "374               the Nokia  3.000000\n",
       "375                verykool  3.611940\n",
       "376            winwinzonece  4.000000\n",
       "377               worryfree  3.000000\n",
       "\n",
       "[378 rows x 2 columns]"
      ]
     },
     "execution_count": 35,
     "metadata": {},
     "output_type": "execute_result"
    }
   ],
   "source": [
    "Avg_rating=df.groupby('Brand Name')['Rating'].mean().reset_index()\n",
    "Avg_rating"
   ]
  },
  {
   "cell_type": "code",
   "execution_count": 36,
   "id": "689e1594-4518-492c-b40e-c731d06dbdf0",
   "metadata": {},
   "outputs": [
    {
     "data": {
      "text/html": [
       "<div>\n",
       "<style scoped>\n",
       "    .dataframe tbody tr th:only-of-type {\n",
       "        vertical-align: middle;\n",
       "    }\n",
       "\n",
       "    .dataframe tbody tr th {\n",
       "        vertical-align: top;\n",
       "    }\n",
       "\n",
       "    .dataframe thead th {\n",
       "        text-align: right;\n",
       "    }\n",
       "</style>\n",
       "<table border=\"1\" class=\"dataframe\">\n",
       "  <thead>\n",
       "    <tr style=\"text-align: right;\">\n",
       "      <th></th>\n",
       "      <th>Brand Name</th>\n",
       "      <th>Rating</th>\n",
       "    </tr>\n",
       "  </thead>\n",
       "  <tbody>\n",
       "    <tr>\n",
       "      <th>165</th>\n",
       "      <td>M-HORSE</td>\n",
       "      <td>1.0</td>\n",
       "    </tr>\n",
       "    <tr>\n",
       "      <th>50</th>\n",
       "      <td>Conquest S8 Pro 3GB Smartphone (Black)</td>\n",
       "      <td>1.0</td>\n",
       "    </tr>\n",
       "    <tr>\n",
       "      <th>49</th>\n",
       "      <td>Concox</td>\n",
       "      <td>1.0</td>\n",
       "    </tr>\n",
       "    <tr>\n",
       "      <th>225</th>\n",
       "      <td>Research In Motion</td>\n",
       "      <td>1.0</td>\n",
       "    </tr>\n",
       "    <tr>\n",
       "      <th>173</th>\n",
       "      <td>Marozi International Ltd</td>\n",
       "      <td>1.0</td>\n",
       "    </tr>\n",
       "    <tr>\n",
       "      <th>330</th>\n",
       "      <td>Yezz Wireless Ltd.</td>\n",
       "      <td>1.0</td>\n",
       "    </tr>\n",
       "    <tr>\n",
       "      <th>301</th>\n",
       "      <td>UHAPPY</td>\n",
       "      <td>1.0</td>\n",
       "    </tr>\n",
       "    <tr>\n",
       "      <th>170</th>\n",
       "      <td>MOTOROLA</td>\n",
       "      <td>1.0</td>\n",
       "    </tr>\n",
       "    <tr>\n",
       "      <th>315</th>\n",
       "      <td>Vernee</td>\n",
       "      <td>1.0</td>\n",
       "    </tr>\n",
       "    <tr>\n",
       "      <th>234</th>\n",
       "      <td>SENTEL</td>\n",
       "      <td>1.0</td>\n",
       "    </tr>\n",
       "    <tr>\n",
       "      <th>192</th>\n",
       "      <td>Odysseus</td>\n",
       "      <td>1.0</td>\n",
       "    </tr>\n",
       "    <tr>\n",
       "      <th>101</th>\n",
       "      <td>HJ Wireless</td>\n",
       "      <td>1.0</td>\n",
       "    </tr>\n",
       "    <tr>\n",
       "      <th>361</th>\n",
       "      <td>nokia</td>\n",
       "      <td>1.0</td>\n",
       "    </tr>\n",
       "  </tbody>\n",
       "</table>\n",
       "</div>"
      ],
      "text/plain": [
       "                                 Brand Name  Rating\n",
       "165                                 M-HORSE     1.0\n",
       "50   Conquest S8 Pro 3GB Smartphone (Black)     1.0\n",
       "49                                   Concox     1.0\n",
       "225                      Research In Motion     1.0\n",
       "173                Marozi International Ltd     1.0\n",
       "330                      Yezz Wireless Ltd.     1.0\n",
       "301                                  UHAPPY     1.0\n",
       "170                                MOTOROLA     1.0\n",
       "315                                  Vernee     1.0\n",
       "234                                  SENTEL     1.0\n",
       "192                                Odysseus     1.0\n",
       "101                             HJ Wireless     1.0\n",
       "361                                   nokia     1.0"
      ]
     },
     "execution_count": 36,
     "metadata": {},
     "output_type": "execute_result"
    }
   ],
   "source": [
    "lowest_avg_rating= Avg_rating.sort_values(by='Rating').head(13)\n",
    "lowest_avg_rating"
   ]
  },
  {
   "cell_type": "code",
   "execution_count": 59,
   "id": "1480a7e8-865e-46cc-969e-ffbd80f4ede6",
   "metadata": {},
   "outputs": [
    {
     "data": {
      "image/png": "[encoded data removed]",
      "text/plain": [
       "<Figure size 640x480 with 1 Axes>"
      ]
     },
     "metadata": {},
     "output_type": "display_data"
    }
   ],
   "source": [
    "sns.set_style('white')\n",
    "sns.barplot(y='Brand Name',x='Rating',data=lowest_avg_rating,palette='Paired',saturation=0.8)\n",
    "plt.title('The brands with the lowest average ratings for unlocked mobile phones')\n",
    "plt.show()"
   ]
  },
  {
   "cell_type": "markdown",
   "id": "3d8e5553-c814-49e8-a206-8b27b9197826",
   "metadata": {},
   "source": [
    " * from the above graph, we can observe the mobile phone brands with the lowest average rating. Here Each mobile phone brand has received a rating of 1."
   ]
  },
  {
   "cell_type": "markdown",
   "id": "f2d1cb32-ce34-4eb0-ac9a-2e81567fcb01",
   "metadata": {},
   "source": [
    "### 5)What is the distribution of ratings (e.g., 1-star, 2-star, etc.) for mobile phones on Amazon?"
   ]
  },
  {
   "cell_type": "code",
   "execution_count": 38,
   "id": "59183804-e1dc-4b24-8399-957374a07ba4",
   "metadata": {},
   "outputs": [
    {
     "data": {
      "text/plain": [
       "5    147861\n",
       "1     50199\n",
       "4     43124\n",
       "3     22624\n",
       "2     17446\n",
       "Name: Rating, dtype: int64"
      ]
     },
     "execution_count": 38,
     "metadata": {},
     "output_type": "execute_result"
    }
   ],
   "source": [
    "dis_rating=df['Rating'].value_counts()\n",
    "dis_rating"
   ]
  },
  {
   "cell_type": "code",
   "execution_count": 61,
   "id": "416ff4a9-bb58-4018-994b-6eb2c98d29a6",
   "metadata": {},
   "outputs": [
    {
     "data": {
      "image/png": "[encoded data removed]",
      "text/plain": [
       "<Figure size 640x480 with 1 Axes>"
      ]
     },
     "metadata": {},
     "output_type": "display_data"
    }
   ],
   "source": [
    "sns.set_style('darkgrid')\n",
    "sns.countplot(data= df,x='Rating', palette='viridis')\n",
    "plt.title('Distribution of Ratings for Mobile Phones on Amazon',fontsize=15)\n",
    "plt.xlabel('Rating',fontsize=12)\n",
    "plt.ylabel('Frequency',fontsize=12)\n",
    "plt.savefig('q5')\n",
    "plt.show()"
   ]
  },
  {
   "cell_type": "markdown",
   "id": "bbae6076-5219-47b9-adc2-415b4aea0c3b",
   "metadata": {},
   "source": [
    "* From the above graph, we can see that most of the customers (around 150,000) have given a rating of 5."
   ]
  },
  {
   "cell_type": "markdown",
   "id": "f1864eef-9869-4837-a5c4-8a421c3ebf44",
   "metadata": {},
   "source": [
    "### 6)Which brands receive the most positive feedback from customers, based on review votes and rating?"
   ]
  },
  {
   "cell_type": "code",
   "execution_count": 40,
   "id": "aa947d1c-72df-4cf4-bc7a-713808e87d10",
   "metadata": {},
   "outputs": [
    {
     "data": {
      "text/html": [
       "<div>\n",
       "<style scoped>\n",
       "    .dataframe tbody tr th:only-of-type {\n",
       "        vertical-align: middle;\n",
       "    }\n",
       "\n",
       "    .dataframe tbody tr th {\n",
       "        vertical-align: top;\n",
       "    }\n",
       "\n",
       "    .dataframe thead th {\n",
       "        text-align: right;\n",
       "    }\n",
       "</style>\n",
       "<table border=\"1\" class=\"dataframe\">\n",
       "  <thead>\n",
       "    <tr style=\"text-align: right;\">\n",
       "      <th></th>\n",
       "      <th>Product Name</th>\n",
       "      <th>Brand Name</th>\n",
       "      <th>Price</th>\n",
       "      <th>Rating</th>\n",
       "      <th>Reviews</th>\n",
       "      <th>Review Votes</th>\n",
       "    </tr>\n",
       "  </thead>\n",
       "  <tbody>\n",
       "    <tr>\n",
       "      <th>0</th>\n",
       "      <td>\"CLEAR CLEAN ESN\" Sprint EPIC 4G Galaxy SPH-D7...</td>\n",
       "      <td>Samsung</td>\n",
       "      <td>199.99</td>\n",
       "      <td>5</td>\n",
       "      <td>I feel so LUCKY to have found this used (phone...</td>\n",
       "      <td>1.0</td>\n",
       "    </tr>\n",
       "    <tr>\n",
       "      <th>1</th>\n",
       "      <td>\"CLEAR CLEAN ESN\" Sprint EPIC 4G Galaxy SPH-D7...</td>\n",
       "      <td>Samsung</td>\n",
       "      <td>199.99</td>\n",
       "      <td>4</td>\n",
       "      <td>nice phone, nice up grade from my pantach revu...</td>\n",
       "      <td>0.0</td>\n",
       "    </tr>\n",
       "  </tbody>\n",
       "</table>\n",
       "</div>"
      ],
      "text/plain": [
       "                                        Product Name Brand Name   Price  \\\n",
       "0  \"CLEAR CLEAN ESN\" Sprint EPIC 4G Galaxy SPH-D7...    Samsung  199.99   \n",
       "1  \"CLEAR CLEAN ESN\" Sprint EPIC 4G Galaxy SPH-D7...    Samsung  199.99   \n",
       "\n",
       "   Rating                                            Reviews  Review Votes  \n",
       "0       5  I feel so LUCKY to have found this used (phone...           1.0  \n",
       "1       4  nice phone, nice up grade from my pantach revu...           0.0  "
      ]
     },
     "execution_count": 40,
     "metadata": {},
     "output_type": "execute_result"
    }
   ],
   "source": [
    "df.head(2)"
   ]
  },
  {
   "cell_type": "code",
   "execution_count": 41,
   "id": "70233560-7948-4f8c-9157-7fef0210c8e9",
   "metadata": {
    "tags": []
   },
   "outputs": [
    {
     "data": {
      "text/html": [
       "<div>\n",
       "<style scoped>\n",
       "    .dataframe tbody tr th:only-of-type {\n",
       "        vertical-align: middle;\n",
       "    }\n",
       "\n",
       "    .dataframe tbody tr th {\n",
       "        vertical-align: top;\n",
       "    }\n",
       "\n",
       "    .dataframe thead th {\n",
       "        text-align: right;\n",
       "    }\n",
       "</style>\n",
       "<table border=\"1\" class=\"dataframe\">\n",
       "  <thead>\n",
       "    <tr style=\"text-align: right;\">\n",
       "      <th></th>\n",
       "      <th>Rating</th>\n",
       "      <th>Review Votes</th>\n",
       "    </tr>\n",
       "    <tr>\n",
       "      <th>Brand Name</th>\n",
       "      <th></th>\n",
       "      <th></th>\n",
       "    </tr>\n",
       "  </thead>\n",
       "  <tbody>\n",
       "    <tr>\n",
       "      <th>AMM Global Enterprises</th>\n",
       "      <td>4.888889</td>\n",
       "      <td>1.0</td>\n",
       "    </tr>\n",
       "    <tr>\n",
       "      <th>ARGOM TECH</th>\n",
       "      <td>3.000000</td>\n",
       "      <td>0.0</td>\n",
       "    </tr>\n",
       "    <tr>\n",
       "      <th>ASUS</th>\n",
       "      <td>4.476309</td>\n",
       "      <td>718.0</td>\n",
       "    </tr>\n",
       "    <tr>\n",
       "      <th>ASUS Computers</th>\n",
       "      <td>4.020619</td>\n",
       "      <td>757.0</td>\n",
       "    </tr>\n",
       "    <tr>\n",
       "      <th>AT&amp;T</th>\n",
       "      <td>5.000000</td>\n",
       "      <td>0.0</td>\n",
       "    </tr>\n",
       "    <tr>\n",
       "      <th>...</th>\n",
       "      <td>...</td>\n",
       "      <td>...</td>\n",
       "    </tr>\n",
       "    <tr>\n",
       "      <th>star</th>\n",
       "      <td>3.344828</td>\n",
       "      <td>35.0</td>\n",
       "    </tr>\n",
       "    <tr>\n",
       "      <th>the Nokia</th>\n",
       "      <td>3.000000</td>\n",
       "      <td>14.0</td>\n",
       "    </tr>\n",
       "    <tr>\n",
       "      <th>verykool</th>\n",
       "      <td>3.611940</td>\n",
       "      <td>1309.0</td>\n",
       "    </tr>\n",
       "    <tr>\n",
       "      <th>winwinzonece</th>\n",
       "      <td>4.000000</td>\n",
       "      <td>6.0</td>\n",
       "    </tr>\n",
       "    <tr>\n",
       "      <th>worryfree</th>\n",
       "      <td>3.000000</td>\n",
       "      <td>2.0</td>\n",
       "    </tr>\n",
       "  </tbody>\n",
       "</table>\n",
       "<p>378 rows × 2 columns</p>\n",
       "</div>"
      ],
      "text/plain": [
       "                          Rating  Review Votes\n",
       "Brand Name                                    \n",
       "AMM Global Enterprises  4.888889           1.0\n",
       "ARGOM TECH              3.000000           0.0\n",
       "ASUS                    4.476309         718.0\n",
       "ASUS Computers          4.020619         757.0\n",
       "AT&T                    5.000000           0.0\n",
       "...                          ...           ...\n",
       "star                    3.344828          35.0\n",
       "the Nokia               3.000000          14.0\n",
       "verykool                3.611940        1309.0\n",
       "winwinzonece            4.000000           6.0\n",
       "worryfree               3.000000           2.0\n",
       "\n",
       "[378 rows x 2 columns]"
      ]
     },
     "execution_count": 41,
     "metadata": {},
     "output_type": "execute_result"
    }
   ],
   "source": [
    "brand_stats = df.groupby('Brand Name').agg({'Rating': 'mean', 'Review Votes': 'sum'})\n",
    "brand_stats"
   ]
  },
  {
   "cell_type": "code",
   "execution_count": 42,
   "id": "0061667a-be91-4e70-860f-b024085c6ea6",
   "metadata": {
    "tags": []
   },
   "outputs": [
    {
     "data": {
      "text/html": [
       "<div>\n",
       "<style scoped>\n",
       "    .dataframe tbody tr th:only-of-type {\n",
       "        vertical-align: middle;\n",
       "    }\n",
       "\n",
       "    .dataframe tbody tr th {\n",
       "        vertical-align: top;\n",
       "    }\n",
       "\n",
       "    .dataframe thead th {\n",
       "        text-align: right;\n",
       "    }\n",
       "</style>\n",
       "<table border=\"1\" class=\"dataframe\">\n",
       "  <thead>\n",
       "    <tr style=\"text-align: right;\">\n",
       "      <th></th>\n",
       "      <th>Rating</th>\n",
       "      <th>Review Votes</th>\n",
       "    </tr>\n",
       "    <tr>\n",
       "      <th>Brand Name</th>\n",
       "      <th></th>\n",
       "      <th></th>\n",
       "    </tr>\n",
       "  </thead>\n",
       "  <tbody>\n",
       "    <tr>\n",
       "      <th>Alcatel</th>\n",
       "      <td>4.019818</td>\n",
       "      <td>2938.0</td>\n",
       "    </tr>\n",
       "    <tr>\n",
       "      <th>Amazon.com, LLC *** KEEP PORules ACTIVE ***</th>\n",
       "      <td>4.083333</td>\n",
       "      <td>2158.0</td>\n",
       "    </tr>\n",
       "    <tr>\n",
       "      <th>Apple</th>\n",
       "      <td>3.901494</td>\n",
       "      <td>101941.0</td>\n",
       "    </tr>\n",
       "    <tr>\n",
       "      <th>BLU</th>\n",
       "      <td>3.767584</td>\n",
       "      <td>47698.0</td>\n",
       "    </tr>\n",
       "    <tr>\n",
       "      <th>BlackBerry</th>\n",
       "      <td>3.673453</td>\n",
       "      <td>17978.0</td>\n",
       "    </tr>\n",
       "    <tr>\n",
       "      <th>Huawei</th>\n",
       "      <td>4.272621</td>\n",
       "      <td>7022.0</td>\n",
       "    </tr>\n",
       "    <tr>\n",
       "      <th>Jitterbug</th>\n",
       "      <td>4.140845</td>\n",
       "      <td>2194.0</td>\n",
       "    </tr>\n",
       "    <tr>\n",
       "      <th>LG</th>\n",
       "      <td>3.800621</td>\n",
       "      <td>20128.0</td>\n",
       "    </tr>\n",
       "    <tr>\n",
       "      <th>LG Electronics</th>\n",
       "      <td>4.037106</td>\n",
       "      <td>2240.0</td>\n",
       "    </tr>\n",
       "    <tr>\n",
       "      <th>Motorola</th>\n",
       "      <td>3.758888</td>\n",
       "      <td>20921.0</td>\n",
       "    </tr>\n",
       "    <tr>\n",
       "      <th>Nokia</th>\n",
       "      <td>3.804912</td>\n",
       "      <td>23034.0</td>\n",
       "    </tr>\n",
       "    <tr>\n",
       "      <th>Posh Mobile</th>\n",
       "      <td>3.627060</td>\n",
       "      <td>11189.0</td>\n",
       "    </tr>\n",
       "    <tr>\n",
       "      <th>RCA</th>\n",
       "      <td>3.856944</td>\n",
       "      <td>2883.0</td>\n",
       "    </tr>\n",
       "    <tr>\n",
       "      <th>Samsung</th>\n",
       "      <td>3.925334</td>\n",
       "      <td>83937.0</td>\n",
       "    </tr>\n",
       "    <tr>\n",
       "      <th>Sony</th>\n",
       "      <td>3.892408</td>\n",
       "      <td>10966.0</td>\n",
       "    </tr>\n",
       "    <tr>\n",
       "      <th>ZTE</th>\n",
       "      <td>4.075565</td>\n",
       "      <td>5092.0</td>\n",
       "    </tr>\n",
       "    <tr>\n",
       "      <th>samsung</th>\n",
       "      <td>4.019959</td>\n",
       "      <td>2448.0</td>\n",
       "    </tr>\n",
       "  </tbody>\n",
       "</table>\n",
       "</div>"
      ],
      "text/plain": [
       "                                               Rating  Review Votes\n",
       "Brand Name                                                         \n",
       "Alcatel                                      4.019818        2938.0\n",
       "Amazon.com, LLC *** KEEP PORules ACTIVE ***  4.083333        2158.0\n",
       "Apple                                        3.901494      101941.0\n",
       "BLU                                          3.767584       47698.0\n",
       "BlackBerry                                   3.673453       17978.0\n",
       "Huawei                                       4.272621        7022.0\n",
       "Jitterbug                                    4.140845        2194.0\n",
       "LG                                           3.800621       20128.0\n",
       "LG Electronics                               4.037106        2240.0\n",
       "Motorola                                     3.758888       20921.0\n",
       "Nokia                                        3.804912       23034.0\n",
       "Posh Mobile                                  3.627060       11189.0\n",
       "RCA                                          3.856944        2883.0\n",
       "Samsung                                      3.925334       83937.0\n",
       "Sony                                         3.892408       10966.0\n",
       "ZTE                                          4.075565        5092.0\n",
       "samsung                                      4.019959        2448.0"
      ]
     },
     "execution_count": 42,
     "metadata": {},
     "output_type": "execute_result"
    }
   ],
   "source": [
    "top=brand_stats[(brand_stats['Rating']>=3.6 ) & (brand_stats['Review Votes']>2000)]\n",
    "top"
   ]
  },
  {
   "cell_type": "code",
   "execution_count": 43,
   "id": "22342338-67c9-42dd-97d9-6518e1dd1217",
   "metadata": {},
   "outputs": [
    {
     "data": {
      "text/html": [
       "<div>\n",
       "<style scoped>\n",
       "    .dataframe tbody tr th:only-of-type {\n",
       "        vertical-align: middle;\n",
       "    }\n",
       "\n",
       "    .dataframe tbody tr th {\n",
       "        vertical-align: top;\n",
       "    }\n",
       "\n",
       "    .dataframe thead th {\n",
       "        text-align: right;\n",
       "    }\n",
       "</style>\n",
       "<table border=\"1\" class=\"dataframe\">\n",
       "  <thead>\n",
       "    <tr style=\"text-align: right;\">\n",
       "      <th></th>\n",
       "      <th>Brand Name</th>\n",
       "      <th>Rating</th>\n",
       "      <th>Review Votes</th>\n",
       "    </tr>\n",
       "  </thead>\n",
       "  <tbody>\n",
       "    <tr>\n",
       "      <th>0</th>\n",
       "      <td>Apple</td>\n",
       "      <td>3.901494</td>\n",
       "      <td>101941.0</td>\n",
       "    </tr>\n",
       "    <tr>\n",
       "      <th>1</th>\n",
       "      <td>Samsung</td>\n",
       "      <td>3.925334</td>\n",
       "      <td>83937.0</td>\n",
       "    </tr>\n",
       "    <tr>\n",
       "      <th>2</th>\n",
       "      <td>BLU</td>\n",
       "      <td>3.767584</td>\n",
       "      <td>47698.0</td>\n",
       "    </tr>\n",
       "    <tr>\n",
       "      <th>3</th>\n",
       "      <td>Nokia</td>\n",
       "      <td>3.804912</td>\n",
       "      <td>23034.0</td>\n",
       "    </tr>\n",
       "    <tr>\n",
       "      <th>4</th>\n",
       "      <td>Motorola</td>\n",
       "      <td>3.758888</td>\n",
       "      <td>20921.0</td>\n",
       "    </tr>\n",
       "  </tbody>\n",
       "</table>\n",
       "</div>"
      ],
      "text/plain": [
       "  Brand Name    Rating  Review Votes\n",
       "0      Apple  3.901494      101941.0\n",
       "1    Samsung  3.925334       83937.0\n",
       "2        BLU  3.767584       47698.0\n",
       "3      Nokia  3.804912       23034.0\n",
       "4   Motorola  3.758888       20921.0"
      ]
     },
     "execution_count": 43,
     "metadata": {},
     "output_type": "execute_result"
    }
   ],
   "source": [
    "most_positive_feedback=top.sort_values(by='Review Votes',ascending=False).head(5).reset_index()\n",
    "most_positive_feedback"
   ]
  },
  {
   "cell_type": "code",
   "execution_count": 63,
   "id": "7e4a8890-b0fd-4daa-bbca-f166a4c7d65e",
   "metadata": {},
   "outputs": [
    {
     "data": {
      "image/png": "[encoded data removed]",
      "text/plain": [
       "<Figure size 640x480 with 1 Axes>"
      ]
     },
     "metadata": {},
     "output_type": "display_data"
    }
   ],
   "source": [
    "sns.set_style(\"white\")\n",
    "sns.scatterplot(x='Rating',y='Review Votes',data=most_positive_feedback,hue='Brand Name',s=50)\n",
    "plt.title('Top Brands with the Most Positive Feedback from customers',fontsize=15)\n",
    "plt.xlabel('Average Rating',fontsize=12)\n",
    "plt.ylabel('Positive Feedback',fontsize=12)\n",
    "plt.show()"
   ]
  },
  {
   "cell_type": "markdown",
   "id": "313a7ced-11e1-4971-b4ad-7346fd93aa5c",
   "metadata": {},
   "source": [
    "* In the above graph, we can see the top five mobile phone brands that have received the most positive feedback from customers. Among them, the Apple brand received the most positive feedback (over 100,000)."
   ]
  },
  {
   "cell_type": "markdown",
   "id": "7c4bc5b5-61f3-4ba9-94b6-0f50bbad4e47",
   "metadata": {},
   "source": [
    "### 7)Which brands receive the most negative feedback from customers, based on review votes and rating?"
   ]
  },
  {
   "cell_type": "code",
   "execution_count": 45,
   "id": "6c5f5c3e-ab7e-4a3c-9454-46702b5b30a8",
   "metadata": {},
   "outputs": [
    {
     "data": {
      "text/html": [
       "<div>\n",
       "<style scoped>\n",
       "    .dataframe tbody tr th:only-of-type {\n",
       "        vertical-align: middle;\n",
       "    }\n",
       "\n",
       "    .dataframe tbody tr th {\n",
       "        vertical-align: top;\n",
       "    }\n",
       "\n",
       "    .dataframe thead th {\n",
       "        text-align: right;\n",
       "    }\n",
       "</style>\n",
       "<table border=\"1\" class=\"dataframe\">\n",
       "  <thead>\n",
       "    <tr style=\"text-align: right;\">\n",
       "      <th></th>\n",
       "      <th>Rating</th>\n",
       "      <th>Review Votes</th>\n",
       "    </tr>\n",
       "    <tr>\n",
       "      <th>Brand Name</th>\n",
       "      <th></th>\n",
       "      <th></th>\n",
       "    </tr>\n",
       "  </thead>\n",
       "  <tbody>\n",
       "    <tr>\n",
       "      <th>AMM Global Enterprises</th>\n",
       "      <td>4.888889</td>\n",
       "      <td>1.0</td>\n",
       "    </tr>\n",
       "    <tr>\n",
       "      <th>ARGOM TECH</th>\n",
       "      <td>3.000000</td>\n",
       "      <td>0.0</td>\n",
       "    </tr>\n",
       "    <tr>\n",
       "      <th>ASUS</th>\n",
       "      <td>4.476309</td>\n",
       "      <td>718.0</td>\n",
       "    </tr>\n",
       "    <tr>\n",
       "      <th>ASUS Computers</th>\n",
       "      <td>4.020619</td>\n",
       "      <td>757.0</td>\n",
       "    </tr>\n",
       "    <tr>\n",
       "      <th>AT&amp;T</th>\n",
       "      <td>5.000000</td>\n",
       "      <td>0.0</td>\n",
       "    </tr>\n",
       "    <tr>\n",
       "      <th>...</th>\n",
       "      <td>...</td>\n",
       "      <td>...</td>\n",
       "    </tr>\n",
       "    <tr>\n",
       "      <th>star</th>\n",
       "      <td>3.344828</td>\n",
       "      <td>35.0</td>\n",
       "    </tr>\n",
       "    <tr>\n",
       "      <th>the Nokia</th>\n",
       "      <td>3.000000</td>\n",
       "      <td>14.0</td>\n",
       "    </tr>\n",
       "    <tr>\n",
       "      <th>verykool</th>\n",
       "      <td>3.611940</td>\n",
       "      <td>1309.0</td>\n",
       "    </tr>\n",
       "    <tr>\n",
       "      <th>winwinzonece</th>\n",
       "      <td>4.000000</td>\n",
       "      <td>6.0</td>\n",
       "    </tr>\n",
       "    <tr>\n",
       "      <th>worryfree</th>\n",
       "      <td>3.000000</td>\n",
       "      <td>2.0</td>\n",
       "    </tr>\n",
       "  </tbody>\n",
       "</table>\n",
       "<p>378 rows × 2 columns</p>\n",
       "</div>"
      ],
      "text/plain": [
       "                          Rating  Review Votes\n",
       "Brand Name                                    \n",
       "AMM Global Enterprises  4.888889           1.0\n",
       "ARGOM TECH              3.000000           0.0\n",
       "ASUS                    4.476309         718.0\n",
       "ASUS Computers          4.020619         757.0\n",
       "AT&T                    5.000000           0.0\n",
       "...                          ...           ...\n",
       "star                    3.344828          35.0\n",
       "the Nokia               3.000000          14.0\n",
       "verykool                3.611940        1309.0\n",
       "winwinzonece            4.000000           6.0\n",
       "worryfree               3.000000           2.0\n",
       "\n",
       "[378 rows x 2 columns]"
      ]
     },
     "execution_count": 45,
     "metadata": {},
     "output_type": "execute_result"
    }
   ],
   "source": [
    "feedback = df.groupby('Brand Name').agg({'Rating': 'mean', 'Review Votes': 'sum'})\n",
    "feedback"
   ]
  },
  {
   "cell_type": "code",
   "execution_count": 46,
   "id": "00198de3-1d70-4380-84a3-1d183b96fae9",
   "metadata": {},
   "outputs": [
    {
     "data": {
      "text/html": [
       "<div>\n",
       "<style scoped>\n",
       "    .dataframe tbody tr th:only-of-type {\n",
       "        vertical-align: middle;\n",
       "    }\n",
       "\n",
       "    .dataframe tbody tr th {\n",
       "        vertical-align: top;\n",
       "    }\n",
       "\n",
       "    .dataframe thead th {\n",
       "        text-align: right;\n",
       "    }\n",
       "</style>\n",
       "<table border=\"1\" class=\"dataframe\">\n",
       "  <thead>\n",
       "    <tr style=\"text-align: right;\">\n",
       "      <th></th>\n",
       "      <th>Brand Name</th>\n",
       "      <th>Rating</th>\n",
       "      <th>Review Votes</th>\n",
       "    </tr>\n",
       "  </thead>\n",
       "  <tbody>\n",
       "    <tr>\n",
       "      <th>0</th>\n",
       "      <td>FIGO</td>\n",
       "      <td>2.984106</td>\n",
       "      <td>2065.0</td>\n",
       "    </tr>\n",
       "    <tr>\n",
       "      <th>1</th>\n",
       "      <td>Polaroid</td>\n",
       "      <td>2.969806</td>\n",
       "      <td>1966.0</td>\n",
       "    </tr>\n",
       "    <tr>\n",
       "      <th>2</th>\n",
       "      <td>Padgene</td>\n",
       "      <td>2.486352</td>\n",
       "      <td>1151.0</td>\n",
       "    </tr>\n",
       "    <tr>\n",
       "      <th>3</th>\n",
       "      <td>Plum</td>\n",
       "      <td>2.944898</td>\n",
       "      <td>841.0</td>\n",
       "    </tr>\n",
       "    <tr>\n",
       "      <th>4</th>\n",
       "      <td>Turbosight LLD</td>\n",
       "      <td>2.977941</td>\n",
       "      <td>695.0</td>\n",
       "    </tr>\n",
       "  </tbody>\n",
       "</table>\n",
       "</div>"
      ],
      "text/plain": [
       "       Brand Name    Rating  Review Votes\n",
       "0            FIGO  2.984106        2065.0\n",
       "1        Polaroid  2.969806        1966.0\n",
       "2         Padgene  2.486352        1151.0\n",
       "3            Plum  2.944898         841.0\n",
       "4  Turbosight LLD  2.977941         695.0"
      ]
     },
     "execution_count": 46,
     "metadata": {},
     "output_type": "execute_result"
    }
   ],
   "source": [
    "negative_feedback=feedback[(feedback['Rating']<3) & (feedback['Review Votes']>100)].sort_values(by='Review Votes',ascending=False).head(5).reset_index()\n",
    "negative_feedback"
   ]
  },
  {
   "cell_type": "code",
   "execution_count": 64,
   "id": "4a94dfcf-4675-46df-a6d9-8a47017d9bec",
   "metadata": {},
   "outputs": [
    {
     "data": {
      "image/png": "[encoded data removed]",
      "text/plain": [
       "<Figure size 640x480 with 1 Axes>"
      ]
     },
     "metadata": {},
     "output_type": "display_data"
    }
   ],
   "source": [
    "sns.scatterplot(x='Rating',y='Review Votes',data=negative_feedback,hue='Brand Name')\n",
    "plt.title('The Brands with the Most Negative Feedback from customers',fontsize=15)\n",
    "plt.xlabel('Rating',fontsize=12)\n",
    "plt.ylabel('Negative Feedback',fontsize=12)\n",
    "plt.show()"
   ]
  },
  {
   "cell_type": "markdown",
   "id": "1ed651e8-2599-44b5-8436-e7f300b068ac",
   "metadata": {},
   "source": [
    "* In the above graph, we can see the top five mobile phone brands that have received the most negative feedback from customers. Among them, the FIGO brand received the most negative feedback (over 2000)."
   ]
  },
  {
   "cell_type": "markdown",
   "id": "79f7ace5-0164-483f-aa7f-222381d31066",
   "metadata": {},
   "source": [
    "### 8)Which products have the highest number of review votes?"
   ]
  },
  {
   "cell_type": "code",
   "execution_count": 48,
   "id": "39d9749d-8ce0-45a4-9b03-36f5f1d12665",
   "metadata": {},
   "outputs": [
    {
     "data": {
      "text/html": [
       "<div>\n",
       "<style scoped>\n",
       "    .dataframe tbody tr th:only-of-type {\n",
       "        vertical-align: middle;\n",
       "    }\n",
       "\n",
       "    .dataframe tbody tr th {\n",
       "        vertical-align: top;\n",
       "    }\n",
       "\n",
       "    .dataframe thead th {\n",
       "        text-align: right;\n",
       "    }\n",
       "</style>\n",
       "<table border=\"1\" class=\"dataframe\">\n",
       "  <thead>\n",
       "    <tr style=\"text-align: right;\">\n",
       "      <th></th>\n",
       "      <th>Product Name</th>\n",
       "      <th>Review Votes</th>\n",
       "    </tr>\n",
       "  </thead>\n",
       "  <tbody>\n",
       "    <tr>\n",
       "      <th>1803</th>\n",
       "      <td>Moto G Plus (4th Gen.) Unlocked - White - 16GB...</td>\n",
       "      <td>2884.0</td>\n",
       "    </tr>\n",
       "    <tr>\n",
       "      <th>1337</th>\n",
       "      <td>I9220(N9000) 5.0\" Capacitive Android 4.0 Dual ...</td>\n",
       "      <td>2703.0</td>\n",
       "    </tr>\n",
       "    <tr>\n",
       "      <th>1801</th>\n",
       "      <td>Moto G Plus (4th Gen.) Unlocked - Black - 16GB...</td>\n",
       "      <td>2622.0</td>\n",
       "    </tr>\n",
       "    <tr>\n",
       "      <th>736</th>\n",
       "      <td>BlackBerry Classic Factory Unlocked Cellphone,...</td>\n",
       "      <td>2297.0</td>\n",
       "    </tr>\n",
       "    <tr>\n",
       "      <th>1802</th>\n",
       "      <td>Moto G Plus (4th Gen.) Unlocked - Black - 64GB...</td>\n",
       "      <td>2177.0</td>\n",
       "    </tr>\n",
       "  </tbody>\n",
       "</table>\n",
       "</div>"
      ],
      "text/plain": [
       "                                           Product Name  Review Votes\n",
       "1803  Moto G Plus (4th Gen.) Unlocked - White - 16GB...        2884.0\n",
       "1337  I9220(N9000) 5.0\" Capacitive Android 4.0 Dual ...        2703.0\n",
       "1801  Moto G Plus (4th Gen.) Unlocked - Black - 16GB...        2622.0\n",
       "736   BlackBerry Classic Factory Unlocked Cellphone,...        2297.0\n",
       "1802  Moto G Plus (4th Gen.) Unlocked - Black - 64GB...        2177.0"
      ]
     },
     "execution_count": 48,
     "metadata": {},
     "output_type": "execute_result"
    }
   ],
   "source": [
    "highest_review_votes=df.groupby('Product Name')['Review Votes'].sum().reset_index().sort_values(by='Review Votes',ascending=False).head(5)\n",
    "highest_review_votes"
   ]
  },
  {
   "cell_type": "code",
   "execution_count": 65,
   "id": "1c8a07d8-087e-451f-bac7-ef0e8b24317d",
   "metadata": {},
   "outputs": [
    {
     "data": {
      "image/png": "[encoded data removed]",
      "text/plain": [
       "<Figure size 640x480 with 1 Axes>"
      ]
     },
     "metadata": {},
     "output_type": "display_data"
    }
   ],
   "source": [
    "sns.barplot(x='Review Votes',y='Product Name',data=highest_review_votes)\n",
    "plt.title('The products with the highest number of review votes')\n",
    "plt.xlabel('Number of Review Votes')\n",
    "plt.ylabel('Product Name')\n",
    "plt.show()"
   ]
  },
  {
   "cell_type": "markdown",
   "id": "1c3a8664-2994-4312-a937-4d295e58122e",
   "metadata": {},
   "source": [
    "* From the above graph, we can observe the top five products with the highest number of review votes. 'Moto G Plus (4th Gen.) Unlocked - White - 16GB-U.S.Warranty' mobile phone has received the highest number of review votes, around 3000."
   ]
  },
  {
   "cell_type": "markdown",
   "id": "59491200-7755-4a1a-b674-88b8d9a437f9",
   "metadata": {},
   "source": [
    "### 9) Are there any outliers in terms of price and number of reviews?"
   ]
  },
  {
   "cell_type": "code",
   "execution_count": 50,
   "id": "fac9a0e6-6a1d-4c96-9563-4c57bc42fbc6",
   "metadata": {},
   "outputs": [
    {
     "data": {
      "text/html": [
       "<div>\n",
       "<style scoped>\n",
       "    .dataframe tbody tr th:only-of-type {\n",
       "        vertical-align: middle;\n",
       "    }\n",
       "\n",
       "    .dataframe tbody tr th {\n",
       "        vertical-align: top;\n",
       "    }\n",
       "\n",
       "    .dataframe thead th {\n",
       "        text-align: right;\n",
       "    }\n",
       "</style>\n",
       "<table border=\"1\" class=\"dataframe\">\n",
       "  <thead>\n",
       "    <tr style=\"text-align: right;\">\n",
       "      <th></th>\n",
       "      <th>Brand Name</th>\n",
       "      <th>Reviews</th>\n",
       "    </tr>\n",
       "  </thead>\n",
       "  <tbody>\n",
       "    <tr>\n",
       "      <th>0</th>\n",
       "      <td>AMM Global Enterprises</td>\n",
       "      <td>9</td>\n",
       "    </tr>\n",
       "    <tr>\n",
       "      <th>1</th>\n",
       "      <td>ARGOM TECH</td>\n",
       "      <td>2</td>\n",
       "    </tr>\n",
       "    <tr>\n",
       "      <th>2</th>\n",
       "      <td>ASUS</td>\n",
       "      <td>401</td>\n",
       "    </tr>\n",
       "    <tr>\n",
       "      <th>3</th>\n",
       "      <td>ASUS Computers</td>\n",
       "      <td>582</td>\n",
       "    </tr>\n",
       "    <tr>\n",
       "      <th>4</th>\n",
       "      <td>AT&amp;T</td>\n",
       "      <td>1</td>\n",
       "    </tr>\n",
       "    <tr>\n",
       "      <th>...</th>\n",
       "      <td>...</td>\n",
       "      <td>...</td>\n",
       "    </tr>\n",
       "    <tr>\n",
       "      <th>373</th>\n",
       "      <td>star</td>\n",
       "      <td>29</td>\n",
       "    </tr>\n",
       "    <tr>\n",
       "      <th>374</th>\n",
       "      <td>the Nokia</td>\n",
       "      <td>8</td>\n",
       "    </tr>\n",
       "    <tr>\n",
       "      <th>375</th>\n",
       "      <td>verykool</td>\n",
       "      <td>1005</td>\n",
       "    </tr>\n",
       "    <tr>\n",
       "      <th>376</th>\n",
       "      <td>winwinzonece</td>\n",
       "      <td>2</td>\n",
       "    </tr>\n",
       "    <tr>\n",
       "      <th>377</th>\n",
       "      <td>worryfree</td>\n",
       "      <td>3</td>\n",
       "    </tr>\n",
       "  </tbody>\n",
       "</table>\n",
       "<p>378 rows × 2 columns</p>\n",
       "</div>"
      ],
      "text/plain": [
       "                 Brand Name  Reviews\n",
       "0    AMM Global Enterprises        9\n",
       "1                ARGOM TECH        2\n",
       "2                      ASUS      401\n",
       "3            ASUS Computers      582\n",
       "4                      AT&T        1\n",
       "..                      ...      ...\n",
       "373                    star       29\n",
       "374               the Nokia        8\n",
       "375                verykool     1005\n",
       "376            winwinzonece        2\n",
       "377               worryfree        3\n",
       "\n",
       "[378 rows x 2 columns]"
      ]
     },
     "execution_count": 50,
     "metadata": {},
     "output_type": "execute_result"
    }
   ],
   "source": [
    "Review_count=df.groupby('Brand Name')['Reviews'].count().reset_index()\n",
    "Review_count"
   ]
  },
  {
   "cell_type": "code",
   "execution_count": 67,
   "id": "a1bf60b1-d3a5-4bdc-b17b-6246071c5764",
   "metadata": {},
   "outputs": [
    {
     "data": {
      "image/png": "[encoded data removed]",
      "text/plain": [
       "<Figure size 800x400 with 2 Axes>"
      ]
     },
     "metadata": {},
     "output_type": "display_data"
    }
   ],
   "source": [
    "plt.figure(figsize=(8,4))\n",
    "plt.subplot(1, 3, 1)\n",
    "sns.boxplot(y=df['Price'], color='salmon')\n",
    "plt.title('Price')\n",
    "\n",
    "plt.subplot(1, 3, 3)\n",
    "sns.boxplot(y=Review_count['Reviews'], color='lightgreen')\n",
    "plt.title('Number of Reviews')\n",
    "plt.savefig('box')\n",
    "plt.show()"
   ]
  },
  {
   "cell_type": "markdown",
   "id": "ece4345b-2ff5-4d81-85a0-d6313b78c7e5",
   "metadata": {},
   "source": [
    "* From the above graph, we can see that both the price and number of reviews columns have outliers."
   ]
  },
  {
   "cell_type": "markdown",
   "id": "51fab63f-13c1-42c4-853d-7ef08cd86a32",
   "metadata": {},
   "source": [
    "### 10) Is there a relationship between the number of reviews a product receives and its average rating?"
   ]
  },
  {
   "cell_type": "code",
   "execution_count": 52,
   "id": "f15eb30c-1715-4960-ac32-02596e23e4ba",
   "metadata": {},
   "outputs": [
    {
     "data": {
      "text/html": [
       "<div>\n",
       "<style scoped>\n",
       "    .dataframe tbody tr th:only-of-type {\n",
       "        vertical-align: middle;\n",
       "    }\n",
       "\n",
       "    .dataframe tbody tr th {\n",
       "        vertical-align: top;\n",
       "    }\n",
       "\n",
       "    .dataframe thead th {\n",
       "        text-align: right;\n",
       "    }\n",
       "</style>\n",
       "<table border=\"1\" class=\"dataframe\">\n",
       "  <thead>\n",
       "    <tr style=\"text-align: right;\">\n",
       "      <th></th>\n",
       "      <th>Product Name</th>\n",
       "      <th>Brand Name</th>\n",
       "      <th>Price</th>\n",
       "      <th>Rating</th>\n",
       "      <th>Reviews</th>\n",
       "      <th>Review Votes</th>\n",
       "    </tr>\n",
       "  </thead>\n",
       "  <tbody>\n",
       "    <tr>\n",
       "      <th>0</th>\n",
       "      <td>\"CLEAR CLEAN ESN\" Sprint EPIC 4G Galaxy SPH-D7...</td>\n",
       "      <td>Samsung</td>\n",
       "      <td>199.99</td>\n",
       "      <td>5</td>\n",
       "      <td>I feel so LUCKY to have found this used (phone...</td>\n",
       "      <td>1.0</td>\n",
       "    </tr>\n",
       "    <tr>\n",
       "      <th>1</th>\n",
       "      <td>\"CLEAR CLEAN ESN\" Sprint EPIC 4G Galaxy SPH-D7...</td>\n",
       "      <td>Samsung</td>\n",
       "      <td>199.99</td>\n",
       "      <td>4</td>\n",
       "      <td>nice phone, nice up grade from my pantach revu...</td>\n",
       "      <td>0.0</td>\n",
       "    </tr>\n",
       "  </tbody>\n",
       "</table>\n",
       "</div>"
      ],
      "text/plain": [
       "                                        Product Name Brand Name   Price  \\\n",
       "0  \"CLEAR CLEAN ESN\" Sprint EPIC 4G Galaxy SPH-D7...    Samsung  199.99   \n",
       "1  \"CLEAR CLEAN ESN\" Sprint EPIC 4G Galaxy SPH-D7...    Samsung  199.99   \n",
       "\n",
       "   Rating                                            Reviews  Review Votes  \n",
       "0       5  I feel so LUCKY to have found this used (phone...           1.0  \n",
       "1       4  nice phone, nice up grade from my pantach revu...           0.0  "
      ]
     },
     "execution_count": 52,
     "metadata": {},
     "output_type": "execute_result"
    }
   ],
   "source": [
    "df.head(2)"
   ]
  },
  {
   "cell_type": "code",
   "execution_count": 53,
   "id": "5c3b1194-dca8-462c-9db4-7aa9d7ea5e78",
   "metadata": {
    "tags": []
   },
   "outputs": [
    {
     "data": {
      "text/html": [
       "<div>\n",
       "<style scoped>\n",
       "    .dataframe tbody tr th:only-of-type {\n",
       "        vertical-align: middle;\n",
       "    }\n",
       "\n",
       "    .dataframe tbody tr th {\n",
       "        vertical-align: top;\n",
       "    }\n",
       "\n",
       "    .dataframe thead th {\n",
       "        text-align: right;\n",
       "    }\n",
       "</style>\n",
       "<table border=\"1\" class=\"dataframe\">\n",
       "  <thead>\n",
       "    <tr style=\"text-align: right;\">\n",
       "      <th></th>\n",
       "      <th>Product Name</th>\n",
       "      <th>Reviews</th>\n",
       "      <th>Rating</th>\n",
       "    </tr>\n",
       "  </thead>\n",
       "  <tbody>\n",
       "    <tr>\n",
       "      <th>0</th>\n",
       "      <td>\"CLEAR CLEAN ESN\" Sprint EPIC 4G Galaxy SPH-D7...</td>\n",
       "      <td>37</td>\n",
       "      <td>3.702703</td>\n",
       "    </tr>\n",
       "    <tr>\n",
       "      <th>1</th>\n",
       "      <td>\"Nokia Asha 302 Unlocked GSM Phone with 3.2MP ...</td>\n",
       "      <td>67</td>\n",
       "      <td>4.134328</td>\n",
       "    </tr>\n",
       "    <tr>\n",
       "      <th>2</th>\n",
       "      <td>'ATT Wireless LG CU720 Shine for in Red'</td>\n",
       "      <td>5</td>\n",
       "      <td>4.400000</td>\n",
       "    </tr>\n",
       "    <tr>\n",
       "      <th>3</th>\n",
       "      <td>(LANDVO) 5.0\" Capacitive Touch MTK6582 Quad Co...</td>\n",
       "      <td>24</td>\n",
       "      <td>4.250000</td>\n",
       "    </tr>\n",
       "    <tr>\n",
       "      <th>4</th>\n",
       "      <td>10.6'' Inch E-passion Unlocked Smart Phone +Ta...</td>\n",
       "      <td>17</td>\n",
       "      <td>2.941176</td>\n",
       "    </tr>\n",
       "    <tr>\n",
       "      <th>...</th>\n",
       "      <td>...</td>\n",
       "      <td>...</td>\n",
       "      <td>...</td>\n",
       "    </tr>\n",
       "    <tr>\n",
       "      <th>3670</th>\n",
       "      <td>verykool s5017 Dorado 4G HSPA+ 5.0\" IPS LCD Un...</td>\n",
       "      <td>64</td>\n",
       "      <td>3.765625</td>\n",
       "    </tr>\n",
       "    <tr>\n",
       "      <th>3671</th>\n",
       "      <td>verykool s505 Spark 5.0\" IPS TFT LCD 1.3GHz Qu...</td>\n",
       "      <td>8</td>\n",
       "      <td>3.250000</td>\n",
       "    </tr>\n",
       "    <tr>\n",
       "      <th>3672</th>\n",
       "      <td>verykool s5510 Juno HSPA+ Factory Unlocked GSM...</td>\n",
       "      <td>68</td>\n",
       "      <td>3.867647</td>\n",
       "    </tr>\n",
       "    <tr>\n",
       "      <th>3673</th>\n",
       "      <td>verykool s5511 Juno Quatro 5.5\" LCD 4G Unlocke...</td>\n",
       "      <td>20</td>\n",
       "      <td>3.800000</td>\n",
       "    </tr>\n",
       "    <tr>\n",
       "      <th>3674</th>\n",
       "      <td>verykool s5511 Juno Quatro 5.5\" LCD 4G Unlocke...</td>\n",
       "      <td>20</td>\n",
       "      <td>3.800000</td>\n",
       "    </tr>\n",
       "  </tbody>\n",
       "</table>\n",
       "<p>3675 rows × 3 columns</p>\n",
       "</div>"
      ],
      "text/plain": [
       "                                           Product Name  Reviews    Rating\n",
       "0     \"CLEAR CLEAN ESN\" Sprint EPIC 4G Galaxy SPH-D7...       37  3.702703\n",
       "1     \"Nokia Asha 302 Unlocked GSM Phone with 3.2MP ...       67  4.134328\n",
       "2              'ATT Wireless LG CU720 Shine for in Red'        5  4.400000\n",
       "3     (LANDVO) 5.0\" Capacitive Touch MTK6582 Quad Co...       24  4.250000\n",
       "4     10.6'' Inch E-passion Unlocked Smart Phone +Ta...       17  2.941176\n",
       "...                                                 ...      ...       ...\n",
       "3670  verykool s5017 Dorado 4G HSPA+ 5.0\" IPS LCD Un...       64  3.765625\n",
       "3671  verykool s505 Spark 5.0\" IPS TFT LCD 1.3GHz Qu...        8  3.250000\n",
       "3672  verykool s5510 Juno HSPA+ Factory Unlocked GSM...       68  3.867647\n",
       "3673  verykool s5511 Juno Quatro 5.5\" LCD 4G Unlocke...       20  3.800000\n",
       "3674  verykool s5511 Juno Quatro 5.5\" LCD 4G Unlocke...       20  3.800000\n",
       "\n",
       "[3675 rows x 3 columns]"
      ]
     },
     "execution_count": 53,
     "metadata": {},
     "output_type": "execute_result"
    }
   ],
   "source": [
    "review_rating=df.groupby('Product Name').agg({'Reviews':'count','Rating':'mean'}).reset_index()\n",
    "review_rating"
   ]
  },
  {
   "cell_type": "code",
   "execution_count": 54,
   "id": "fa86387f-9bfc-4847-a6c4-56e87f4a4bc9",
   "metadata": {},
   "outputs": [
    {
     "data": {
      "text/plain": [
       "0.10685257249281196"
      ]
     },
     "execution_count": 54,
     "metadata": {},
     "output_type": "execute_result"
    }
   ],
   "source": [
    "review_rating['Reviews'].corr(review_rating['Rating'])"
   ]
  },
  {
   "cell_type": "code",
   "execution_count": 69,
   "id": "bf3bbeef-9965-4da8-9b33-d5436277ecc3",
   "metadata": {},
   "outputs": [
    {
     "data": {
      "image/png": "[encoded data removed]",
      "text/plain": [
       "<Figure size 640x480 with 1 Axes>"
      ]
     },
     "metadata": {},
     "output_type": "display_data"
    }
   ],
   "source": [
    "sns.scatterplot(x='Rating',y='Reviews',data=review_rating,color='purple')\n",
    "plt.title('Relationship between Number of Reviews and Average Rating',fontsize=13)\n",
    "plt.xlabel('Number of Reviews',fontsize=11)\n",
    "plt.ylabel('Average Rating',fontsize=11)\n",
    "plt.savefig('scatter')\n",
    "plt.show()"
   ]
  },
  {
   "cell_type": "markdown",
   "id": "fe508ef3-7a7f-433f-8057-4ab1841af118",
   "metadata": {},
   "source": [
    "* From the above graph we can see a weak positive relationship between the average rating and number of reviews column."
   ]
  },
  {
   "cell_type": "code",
   "execution_count": null,
   "id": "a44fab68-8224-4408-b038-0515685e4f5c",
   "metadata": {},
   "outputs": [],
   "source": []
  }
 ],
 "metadata": {
  "kernelspec": {
   "display_name": "Python 3 (ipykernel)",
   "language": "python",
   "name": "python3"
  },
  "language_info": {
   "codemirror_mode": {
    "name": "ipython",
    "version": 3
   },
   "file_extension": ".py",
   "mimetype": "text/x-python",
   "name": "python",
   "nbconvert_exporter": "python",
   "pygments_lexer": "ipython3",
   "version": "3.10.9"
  }
 },
 "nbformat": 4,
 "nbformat_minor": 5
}
